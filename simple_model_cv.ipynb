{
 "cells": [
  {
   "cell_type": "code",
   "execution_count": 9,
   "metadata": {},
   "outputs": [],
   "source": [
    "import matplotlib.pyplot as plt\n",
    "import numpy as np\n",
    "import pandas as pd\n",
    "import lightgbm as lgb\n",
    "from sklearn.metrics import r2_score, mean_absolute_error\n",
    "from sklearn.model_selection import train_test_split, cross_val_score"
   ]
  },
  {
   "cell_type": "code",
   "execution_count": 10,
   "metadata": {},
   "outputs": [],
   "source": [
    "# Import 20-bin gridded dataset\n",
    "metadata_file = 'metadata19_hmineq0.0_tmin20050000_mean_grid_20.csv'\n",
    "\n",
    "class CFG:\n",
    "    min_thick_value_train = 1.0\n",
    "\n",
    "    featuresSmall = ['RGI', 'Area', 'Zmin', 'Zmax', 'Zmed', 'Slope', 'Lmax', 'Form', 'TermType', 'Aspect',\n",
    "                     'elevation', 'elevation_from_zmin', 'dist_from_border_km_geom',\n",
    "                     'slope50', 'slope100', 'slope150', 'slope300', 'slope450', 'slopegfa',\n",
    "                     'curv_50', 'curv_300', 'curv_gfa', 'aspect_50', 'aspect_300', 'aspect_gfa', 'lat', 'dmdtda_hugo',\n",
    "                     'smb']\n",
    "\n",
    "    features_train = featuresSmall + ['vx_gfa', 'vy_gfa', 'v50', 'v100', 'v150', 'v300', 'v450', 'vgfa']\n",
    "    target = 'THICKNESS'\n",
    "    millan = 'ith_m'\n",
    "    farinotti = 'ith_f'\n",
    "\n",
    "\n",
    "    model = lgb.LGBMRegressor()"
   ]
  },
  {
   "cell_type": "code",
   "execution_count": 11,
   "metadata": {},
   "outputs": [
    {
     "name": "stdout",
     "output_type": "stream",
     "text": [
      "RGI\n",
      "3.0     12877\n",
      "5.0     10247\n",
      "7.0      6926\n",
      "11.0     5907\n",
      "4.0      5363\n",
      "19.0     4437\n",
      "8.0      2101\n",
      "1.0      1835\n",
      "13.0      793\n",
      "17.0      654\n",
      "12.0      221\n",
      "16.0      139\n",
      "10.0      136\n",
      "2.0       120\n",
      "Name: count, dtype: int64\n"
     ]
    }
   ],
   "source": [
    "# Import the training dataset\n",
    "glathida_rgis = pd.read_csv(metadata_file, low_memory=False)\n",
    "# Remove nans\n",
    "glathida_rgis = glathida_rgis.dropna()\n",
    "# Filter out measurements less than 1 meter\n",
    "glathida_rgis = glathida_rgis.loc[glathida_rgis['THICKNESS']>=CFG.min_thick_value_train]\n",
    "\n",
    "# Lets see how many measurements we have in each region\n",
    "print(glathida_rgis['RGI'].value_counts())\n",
    "\n",
    "# Add some features for training\n",
    "glathida_rgis['lat'] = glathida_rgis['POINT_LAT']\n",
    "glathida_rgis['v50'] = np.sqrt(glathida_rgis['vx_gf50']**2 + glathida_rgis['vy_gf50']**2)\n",
    "glathida_rgis['v100'] = np.sqrt(glathida_rgis['vx_gf100']**2 + glathida_rgis['vy_gf100']**2)\n",
    "glathida_rgis['v150'] = np.sqrt(glathida_rgis['vx_gf150']**2 + glathida_rgis['vy_gf150']**2)\n",
    "glathida_rgis['v300'] = np.sqrt(glathida_rgis['vx_gf300']**2 + glathida_rgis['vy_gf300']**2)\n",
    "glathida_rgis['v450'] = np.sqrt(glathida_rgis['vx_gf450']**2 + glathida_rgis['vy_gf450']**2)\n",
    "glathida_rgis['vgfa'] = np.sqrt(glathida_rgis['vx_gfa']**2 + glathida_rgis['vy_gfa']**2)\n",
    "glathida_rgis['dvx'] = np.sqrt(glathida_rgis['dvx_dx']**2 + glathida_rgis['dvx_dy']**2)\n",
    "\n",
    "glathida_rgis['slope50'] = np.sqrt(glathida_rgis['slope_lon_gf50']**2 + glathida_rgis['slope_lat_gf50']**2)\n",
    "glathida_rgis['slope100'] = np.sqrt(glathida_rgis['slope_lon_gf100']**2 + glathida_rgis['slope_lat_gf100']**2)\n",
    "glathida_rgis['slope150'] = np.sqrt(glathida_rgis['slope_lon_gf150']**2 + glathida_rgis['slope_lat_gf150']**2)\n",
    "glathida_rgis['slope300'] = np.sqrt(glathida_rgis['slope_lon_gf300']**2 + glathida_rgis['slope_lat_gf300']**2)\n",
    "glathida_rgis['slope450'] = np.sqrt(glathida_rgis['slope_lon_gf450']**2 + glathida_rgis['slope_lat_gf450']**2)\n",
    "glathida_rgis['slopegfa'] = np.sqrt(glathida_rgis['slope_lon_gfa']**2 + glathida_rgis['slope_lat_gfa']**2)\n",
    "glathida_rgis['elevation_from_zmin'] = glathida_rgis['elevation'] - glathida_rgis['Zmin']\n",
    "\n"
   ]
  },
  {
   "cell_type": "code",
   "execution_count": 12,
   "metadata": {},
   "outputs": [
    {
     "name": "stdout",
     "output_type": "stream",
     "text": [
      "[LightGBM] [Info] Auto-choosing col-wise multi-threading, the overhead of testing was 0.010670 seconds.\n",
      "You can set `force_col_wise=true` to remove the overhead.\n",
      "[LightGBM] [Info] Total Bins 8389\n",
      "[LightGBM] [Info] Number of data points in the train set: 41404, number of used features: 36\n",
      "[LightGBM] [Info] Start training from score 180.809922\n",
      "mae: 36.77 meters\n",
      "R2: 0.90\n"
     ]
    }
   ],
   "source": [
    "X = glathida_rgis[CFG.features_train]\n",
    "y = glathida_rgis[CFG.target]\n",
    "\n",
    "X_train, X_test, y_train, y_test = train_test_split(X, y, test_size=0.2, random_state=None)\n",
    "\n",
    "model = CFG.model\n",
    "model.fit(X_train, y_train)\n",
    "y_preds = model.predict(X_test)\n",
    "\n",
    "mae = mean_absolute_error(y_test, y_preds)\n",
    "R2 = r2_score(y_test, y_preds)\n",
    "print(f\"mae: {mae:.2f} meters\")\n",
    "print(f\"R2: {R2:.2f}\")"
   ]
  },
  {
   "cell_type": "code",
   "execution_count": 13,
   "metadata": {},
   "outputs": [
    {
     "name": "stdout",
     "output_type": "stream",
     "text": [
      "[LightGBM] [Info] Auto-choosing col-wise multi-threading, the overhead of testing was 0.010214 seconds.\n",
      "You can set `force_col_wise=true` to remove the overhead.\n",
      "[LightGBM] [Info] Total Bins 8388\n",
      "[LightGBM] [Info] Number of data points in the train set: 33123, number of used features: 36\n",
      "[LightGBM] [Info] Start training from score 181.114183\n",
      "[LightGBM] [Info] Auto-choosing col-wise multi-threading, the overhead of testing was 0.012299 seconds.\n",
      "You can set `force_col_wise=true` to remove the overhead.\n",
      "[LightGBM] [Info] Total Bins 8386\n",
      "[LightGBM] [Info] Number of data points in the train set: 33123, number of used features: 36\n",
      "[LightGBM] [Info] Start training from score 180.352455\n",
      "[LightGBM] [Info] Auto-choosing row-wise multi-threading, the overhead of testing was 0.002962 seconds.\n",
      "You can set `force_row_wise=true` to remove the overhead.\n",
      "And if memory is not enough, you can set `force_col_wise=true`.\n",
      "[LightGBM] [Info] Total Bins 8385\n",
      "[LightGBM] [Info] Number of data points in the train set: 33123, number of used features: 36\n",
      "[LightGBM] [Info] Start training from score 180.696076\n",
      "[LightGBM] [Info] Auto-choosing row-wise multi-threading, the overhead of testing was 0.003226 seconds.\n",
      "You can set `force_row_wise=true` to remove the overhead.\n",
      "And if memory is not enough, you can set `force_col_wise=true`.\n",
      "[LightGBM] [Info] Total Bins 8383\n",
      "[LightGBM] [Info] Number of data points in the train set: 33123, number of used features: 36\n",
      "[LightGBM] [Info] Start training from score 181.388903\n",
      "[LightGBM] [Info] Auto-choosing row-wise multi-threading, the overhead of testing was 0.010130 seconds.\n",
      "You can set `force_row_wise=true` to remove the overhead.\n",
      "And if memory is not enough, you can set `force_col_wise=true`.\n",
      "[LightGBM] [Info] Total Bins 8388\n",
      "[LightGBM] [Info] Number of data points in the train set: 33124, number of used features: 36\n",
      "[LightGBM] [Info] Start training from score 180.498004\n",
      "Cross-Validation: 36.0025 +- 0.1363\n"
     ]
    }
   ],
   "source": [
    "# Perform k-fold cross-validation (e.g., k=5)\n",
    "cv_scores = cross_val_score(model, X_train, y_train, cv=5, scoring='neg_mean_absolute_error')\n",
    "print(\"Cross-Validation: %.4f +- %.4f\" %(-cv_scores.mean(), cv_scores.std()))"
   ]
  },
  {
   "cell_type": "code",
   "execution_count": null,
   "metadata": {},
   "outputs": [],
   "source": []
  }
 ],
 "metadata": {
  "kernelspec": {
   "display_name": "Python 3",
   "language": "python",
   "name": "python3"
  },
  "language_info": {
   "codemirror_mode": {
    "name": "ipython",
    "version": 3
   },
   "file_extension": ".py",
   "mimetype": "text/x-python",
   "name": "python",
   "nbconvert_exporter": "python",
   "pygments_lexer": "ipython3",
   "version": "3.12.3"
  }
 },
 "nbformat": 4,
 "nbformat_minor": 2
}
