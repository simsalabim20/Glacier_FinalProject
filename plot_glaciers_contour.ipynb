{
 "cells": [
  {
   "cell_type": "code",
   "execution_count": 2,
   "id": "6a3a522d-7ee1-489e-b5a6-36a24e0fc189",
   "metadata": {},
   "outputs": [],
   "source": [
    "import glob\n",
    "import argparse\n",
    "import numpy as np\n",
    "import pandas as pd\n",
    "import geopandas as gpd\n",
    "import matplotlib.pyplot as plt\n",
    "import oggm\n",
    "from oggm import utils\n",
    "\n",
    "%matplotlib qt "
   ]
  },
  {
   "cell_type": "code",
   "execution_count": 3,
   "id": "60e42cb5-b673-45ad-b2eb-e3f3e1446c45",
   "metadata": {},
   "outputs": [
    {
     "data": {
      "text/plain": [
       "'C:\\\\Users\\\\luisa\\\\OGGM\\\\rgi\\\\RGIV62'"
      ]
     },
     "execution_count": 3,
     "metadata": {},
     "output_type": "execute_result"
    }
   ],
   "source": [
    "# Setup oggm: important we want to use oggm's version 62 of all glacier geometries. This command will download them.\n",
    "directory = utils.get_rgi_dir(version='62')\n",
    "directory"
   ]
  },
  {
   "cell_type": "code",
   "execution_count": 4,
   "id": "2111f8e7-45b8-45ea-a856-8991d311d48d",
   "metadata": {},
   "outputs": [],
   "source": [
    "path_O1_shp = directory + r\"\\00_rgi62_regions\\00_rgi62_O1Regions.shp\" # shp file of regional boundaries\n",
    "\n",
    "# Import 20-bin gridded training dataset\n",
    "path_metadata = \"Beginning\"\n",
    "metadata_file = r\"\\metadata19_hmineq0.0_tmin20050000_mean_grid_20.csv\"\n",
    "glathida_rgis = pd.read_csv(path_metadata + metadata_file, low_memory=False)"
   ]
  },
  {
   "cell_type": "code",
   "execution_count": 5,
   "id": "f95d67ed-aa6d-4216-bbca-e248eb878e11",
   "metadata": {},
   "outputs": [
    {
     "name": "stdout",
     "output_type": "stream",
     "text": [
      "                     FULL_NAME RGI_CODE WGMS_CODE  \\\n",
      "0                       Alaska        1       ALA   \n",
      "1                       Alaska        1       ALA   \n",
      "2       Western Canada and USA        2       WNA   \n",
      "3         Arctic Canada, North        3       ACN   \n",
      "4         Arctic Canada, South        4       ACS   \n",
      "5          Greenland Periphery        5       GRL   \n",
      "6                      Iceland        6       ISL   \n",
      "7       Svalbard and Jan Mayen        7       SJM   \n",
      "8                  Scandinavia        8       SCA   \n",
      "9               Russian Arctic        9       RUA   \n",
      "10                 Asia, North       10       ASN   \n",
      "11                 Asia, North       10       ASN   \n",
      "12              Central Europe       11       CEU   \n",
      "13    Caucasus and Middle East       12       CAU   \n",
      "14               Asia, Central       13       ASC   \n",
      "15            Asia, South West       14       ASW   \n",
      "16            Asia, South East       15       ASE   \n",
      "17               Low Latitudes       16       TRP   \n",
      "18              Southern Andes       17       SAN   \n",
      "19                 New Zealand       18       NZL   \n",
      "20  Antarctic and Subantarctic       19       ANT   \n",
      "\n",
      "                                             geometry  \n",
      "0   POLYGON ((-133.00000 54.50000, -134.00000 54.5...  \n",
      "1   POLYGON ((-133.00000 54.50000, -134.00000 54.5...  \n",
      "2   POLYGON ((-133.00000 54.50000, -132.00000 54.5...  \n",
      "3   POLYGON ((-125.00000 74.00000, -125.00000 75.0...  \n",
      "4   POLYGON ((-90.00000 74.00000, -89.00000 74.000...  \n",
      "5   POLYGON ((-75.00000 77.00000, -74.73000 77.510...  \n",
      "6   POLYGON ((-26.00000 59.00000, -26.00000 60.000...  \n",
      "7   POLYGON ((-10.00000 70.00000, -10.00000 71.000...  \n",
      "8   POLYGON ((4.00000 70.00000, 4.00000 71.00000, ...  \n",
      "9   POLYGON ((35.00000 70.00000, 35.00000 71.00000...  \n",
      "10  POLYGON ((-180.00000 78.00000, -179.00000 78.0...  \n",
      "11  POLYGON ((128.00000 46.00000, 127.00000 46.000...  \n",
      "12  POLYGON ((-6.00000 40.00000, -6.00000 41.00000...  \n",
      "13  POLYGON ((32.00000 30.00000, 32.00000 32.00000...  \n",
      "14  POLYGON ((80.00000 46.00000, 81.00000 46.00000...  \n",
      "15  POLYGON ((75.40000 26.00000, 75.00000 26.00000...  \n",
      "16  POLYGON ((75.40000 26.00000, 75.40000 27.00000...  \n",
      "17  POLYGON ((-100.00000 -25.00000, -100.00000 -24...  \n",
      "18  POLYGON ((-62.00000 -45.50000, -62.00000 -46.0...  \n",
      "19  POLYGON ((179.00000 -49.00000, 178.00000 -49.0...  \n",
      "20  POLYGON ((-180.00000 -45.50000, -179.00000 -45...  \n"
     ]
    }
   ],
   "source": [
    "# See all RGI's regional boundaries\n",
    "# See pag 8 at https://nsidc.org/sites/nsidc.org/files/technical-references/RGI_Tech_Report_V6.0.pdf\n",
    "world = gpd.read_file(path_O1_shp)      # import as geopandas dataframe\n",
    "print(world)\n",
    "fig, ax = plt.subplots()\n",
    "for n, rgi_series in enumerate(world['geometry']):\n",
    "    x, y = rgi_series.exterior.xy\n",
    "    min_x, max_x = min(x), max(x)\n",
    "    min_y, max_y = min(y), max(y)\n",
    "    ax.plot(x, y, c='g')\n",
    "    ax.text(np.mean([min_x, max_x]), np.mean([min_y, max_y]), f\"{world['RGI_CODE'].iloc[n]}\", color='green', fontsize=9)\n",
    "plt.show()"
   ]
  },
  {
   "cell_type": "code",
   "execution_count": 6,
   "id": "5026ade0-fba5-499d-828f-9e2e14587197",
   "metadata": {},
   "outputs": [],
   "source": [
    "# Let's select one region of interest, e.g. rgi=11 (Central Europe)\n",
    "\n",
    "# Dataframe of glaciers for rgi=11. This dataset contains a lot of info, some of them are also used to create the\n",
    "# training dataset. RGIId is the official name of glaciers according to the Randolph Glacier Inventory. \n",
    "# In the column geometry you get the geometries. \n",
    "\n",
    "rgi = 11\n",
    "oggm_rgi_shp = glob.glob(f\"C:/Users/luisa/OGGM/rgi/RGIV62/{rgi}*/{rgi}*.shp\")[0] # .shp file for rgi 11\n",
    "oggm_rgi_glaciers = gpd.read_file(oggm_rgi_shp)                         # dataframe for rgi 11"
   ]
  },
  {
   "cell_type": "code",
   "execution_count": 11,
   "id": "c282a805-a6f7-4df3-9b26-087fa81bbd7d",
   "metadata": {},
   "outputs": [
    {
     "name": "stdout",
     "output_type": "stream",
     "text": [
      "We have 49 points in the training dataset\n"
     ]
    }
   ],
   "source": [
    "# Plot one specific glacier by passing the RGIId code.\n",
    "# Example: RGI60-11.01450 is the Aletsch Glacier, the biggest in Central Europe (rgi=11).\n",
    "# You under the geometry column you find the glacier external boundary (.external)\n",
    "# and the glacier nunataks, if any (.interiors). Nunataks are the inner glacier portions that are deglaciated (=rock).\n",
    "# We can also find the points in the training dataset for this glacier (not all glaciers contain measurements)\n",
    "\n",
    "glacier_geometry = oggm_rgi_glaciers.loc[oggm_rgi_glaciers['RGIId']=='RGI60-11.01450']['geometry'].item()\n",
    "\n",
    "# Get the measurements in the training dataset by passing the glacier id\n",
    "glathida_rgis_aletsch = glathida_rgis.loc[glathida_rgis['RGIId']=='RGI60-11.01450']\n",
    "print(f\"We have {len(glathida_rgis_aletsch)} points in the training dataset\")\n",
    "\n",
    "fig, ax = plt.subplots()\n",
    "exterior_ring = glacier_geometry.exterior # External geometry\n",
    "ax.plot(*exterior_ring.xy, c='b')\n",
    "glacier_nunataks_list = [nunatak for nunatak in glacier_geometry.interiors] # Nunataks (list may be empty if no nunataks)\n",
    "for nunatak in glacier_nunataks_list:\n",
    "    ax.plot(*nunatak.xy, c='k', lw=0.8)\n",
    "ax.scatter(x=glathida_rgis_aletsch['POINT_LON'], y=glathida_rgis_aletsch['POINT_LAT'], s=20, c='orange', label='Training points')\n",
    "ax.legend()\n",
    "plt.show()"
   ]
  },
  {
   "cell_type": "markdown",
   "id": "6540fcbb-907a-415d-8d7f-111d4f64ea7d",
   "metadata": {},
   "source": [
    "Plot the Glaciers with a different color then their surroundings for CNN."
   ]
  },
  {
   "cell_type": "code",
   "execution_count": 9,
   "id": "4ad28005-ce3b-4b6e-945a-f9b5188004fc",
   "metadata": {},
   "outputs": [],
   "source": [
    "color_glacier_margin = 'white'\n",
    "color_glacier_out = 'grey'\n",
    "color_glacier_in = 'white'\n",
    "color_nunatak_margin = 'black'\n",
    "color_nunatak = 'black'"
   ]
  },
  {
   "cell_type": "code",
   "execution_count": 12,
   "id": "dbe27d26-19ec-4b46-84fb-781099a0ac9e",
   "metadata": {},
   "outputs": [],
   "source": [
    "fig, ax = plt.subplots()\n",
    "\n",
    "# plot the exterior ring = glacier margin\n",
    "exterior_ring = glacier_geometry.exterior \n",
    "ax.plot(*exterior_ring.xy, c=color_glacier_margin)\n",
    "\n",
    "# plot the nunataks \n",
    "glacier_nunataks_list = [nunatak for nunatak in glacier_geometry.interiors]\n",
    "for nunatak in glacier_nunataks_list:\n",
    "    ax.plot(*nunatak.xy, c=color_nunatak_margin, lw=0.8)\n",
    "\n",
    "bounds = glacier_geometry.bounds\n",
    "x_min, y_min, x_max, y_max = bounds # get the boundaries for the plot\n",
    "\n",
    "# add a margin to the bounding box so that we have it similar to the previous plot of the glacier - means boundary glacier != boundary plot\n",
    "margin = 0.05 * max(x_max - x_min, y_max - y_min)\n",
    "x_min -= margin\n",
    "x_max += margin\n",
    "y_min -= margin\n",
    "y_max += margin\n",
    "ax.set_xlim(x_min, x_max)\n",
    "ax.set_ylim(y_min, y_max)\n",
    "\n",
    "# create a large rectangle for the whole plot area\n",
    "outer_rect = np.array([[x_min, y_min], [x_min, y_max], [x_max, y_max], [x_max, y_min], [x_min, y_min]])\n",
    "\n",
    "# shade the area outside the glacier's exterior ring\n",
    "ax.fill(*outer_rect.T, facecolor=color_glacier_out, edgecolor='none', alpha=0.5) # * -> it unpacks the tuple/array into separate arguments \n",
    "ax.fill(*exterior_ring.xy, facecolor=color_glacier_in, edgecolor='none')\n",
    "\n",
    "# shade the interior of the nunataks \n",
    "for nunatak in glacier_nunataks_list:\n",
    "    ax.fill(*nunatak.xy, facecolor=color_nunatak, edgecolor='none')\n",
    "\n",
    "plt.show()"
   ]
  },
  {
   "cell_type": "markdown",
   "id": "fd900055-0deb-43f0-88c5-188a865ad6fb",
   "metadata": {},
   "source": [
    "Questions: \n",
    "- edgecoler=None: is this correct or do we loose pixel?\n",
    "- Should we plot the contour of the glacier? Loose pixel?\n",
    "- Should we plot the contour of the nunataks? Loose pixel?"
   ]
  },
  {
   "cell_type": "code",
   "execution_count": null,
   "id": "5a89f5f2-39b6-42dc-a7d7-107cd0b64140",
   "metadata": {},
   "outputs": [],
   "source": [
    "# Plot the whole regional set of glaciers and all nunataks\n",
    "# zoom in with matplotlib in interactive mode (%matplotlib qt ) to have a sense of all glacier and their nunataks\n",
    "\n",
    "region11 = world.loc[12] # Regional boundary\n",
    "fig, ax = plt.subplots()\n",
    "for glacier_rgiid, glacier_geometry in zip(oggm_rgi_glaciers['RGIId'], oggm_rgi_glaciers['geometry']):\n",
    "\n",
    "    exterior_ring = glacier_geometry.exterior\n",
    "    glacier_nunataks_list = [nunatak for nunatak in glacier_geometry.interiors]\n",
    "\n",
    "    ax.plot(*exterior_ring.xy, c='b')\n",
    "    for nunatak in glacier_nunataks_list:\n",
    "        ax.plot(*nunatak.xy, c='k', lw=0.8) # Plot glacier nunataks (if any)\n",
    "ax.plot(*region11['geometry'].exterior.xy, c='g') # Regional boundary\n",
    "ax.text(min(*region11['geometry'].exterior.xy[0])+1,\n",
    "        max(*region11['geometry'].exterior.xy[1])-1, f'rgi {rgi}', c='g', fontsize=12)\n",
    "plt.show()"
   ]
  }
 ],
 "metadata": {
  "kernelspec": {
   "display_name": "Python 3 (ipykernel)",
   "language": "python",
   "name": "python3"
  },
  "language_info": {
   "codemirror_mode": {
    "name": "ipython",
    "version": 3
   },
   "file_extension": ".py",
   "mimetype": "text/x-python",
   "name": "python",
   "nbconvert_exporter": "python",
   "pygments_lexer": "ipython3",
   "version": "3.9.7"
  }
 },
 "nbformat": 4,
 "nbformat_minor": 5
}
