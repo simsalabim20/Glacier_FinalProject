{
 "cells": [
  {
   "cell_type": "code",
   "execution_count": 1,
   "id": "6a3a522d-7ee1-489e-b5a6-36a24e0fc189",
   "metadata": {
    "tags": []
   },
   "outputs": [],
   "source": [
    "import glob\n",
    "import argparse\n",
    "import numpy as np\n",
    "import pandas as pd\n",
    "import geopandas as gpd\n",
    "import matplotlib.pyplot as plt\n",
    "import oggm\n",
    "from oggm import utils\n",
    "\n",
    "from __future__ import print_function, division   # Ensures Python3 printing & division standard\n",
    "from matplotlib import pyplot as plt\n",
    "from matplotlib import colors\n",
    "from matplotlib.pylab import rcParams\n",
    "\n",
    "import numpy as np\n",
    "import pandas as pd \n",
    "from sklearn import tree\n",
    "from sklearn.metrics import confusion_matrix, accuracy_score,mean_squared_error, mean_absolute_error, r2_score, roc_curve,auc\n",
    "from sklearn.tree import DecisionTreeClassifier, plot_tree,export_graphviz\n",
    "from sklearn.model_selection import train_test_split,RandomizedSearchCV\n",
    "from sklearn.inspection import permutation_importance\n",
    "from sklearn.neural_network import MLPClassifier\n",
    "\n",
    "from scipy.stats import randint, poisson\n",
    "from sklearn.preprocessing import MinMaxScaler\n",
    "\n",
    "import xgboost as xgb\n",
    "from xgboost import plot_tree\n",
    "\n",
    "import tensorflow as tf\n",
    "from tensorflow.keras.models import Sequential\n",
    "from tensorflow.keras.layers import Dense\n",
    "from tensorflow.keras.callbacks import EarlyStopping\n",
    "\n",
    "from ipywidgets import interactive\n",
    "from graphviz import Source\n",
    "from IPython.display import SVG\n",
    "\n",
    "import csv\n",
    "\n",
    "%matplotlib qt "
   ]
  },
  {
   "cell_type": "code",
   "execution_count": 3,
   "id": "60e42cb5-b673-45ad-b2eb-e3f3e1446c45",
   "metadata": {
    "tags": []
   },
   "outputs": [
    {
     "data": {
      "text/plain": [
       "'C:\\\\Users\\\\damsg\\\\OGGM\\\\rgi\\\\RGIV62'"
      ]
     },
     "execution_count": 3,
     "metadata": {},
     "output_type": "execute_result"
    }
   ],
   "source": [
    "# Setup oggm: important we want to use oggm's version 62 of all glacier geometries. This command will download them.\n",
    "utils.get_rgi_dir(version='62')"
   ]
  },
  {
   "cell_type": "code",
   "execution_count": 3,
   "id": "2111f8e7-45b8-45ea-a856-8991d311d48d",
   "metadata": {
    "tags": []
   },
   "outputs": [],
   "source": [
    "path_O1_shp = '00_rgi60_O1Regions.shp' # shp file of regional boundaries\n",
    "\n",
    "# Import 20-bin gridded training dataset\n",
    "metadata_file = \"metadata19_hmineq0.0_tmin20050000_mean_grid_20.csv\"\n",
    "glathida_rgis = pd.read_csv(metadata_file, low_memory=False)"
   ]
  },
  {
   "cell_type": "code",
   "execution_count": 27,
   "id": "1043e6ba-3847-409e-8c4e-2f751e8f91d1",
   "metadata": {
    "tags": []
   },
   "outputs": [
    {
     "name": "stdout",
     "output_type": "stream",
     "text": [
      "--------- TRAINING ---------\n",
      "Epoch 1/50\n",
      "2414/2414 [==============================] - 5s 2ms/step - loss: 74.8508 - mean_absolute_error: 74.8508 - val_loss: 65.9274 - val_mean_absolute_error: 65.9274\n",
      "Epoch 2/50\n",
      "2414/2414 [==============================] - 4s 2ms/step - loss: 64.9389 - mean_absolute_error: 64.9389 - val_loss: 62.6031 - val_mean_absolute_error: 62.6031\n",
      "Epoch 3/50\n",
      "2414/2414 [==============================] - 5s 2ms/step - loss: 61.7836 - mean_absolute_error: 61.7836 - val_loss: 61.7823 - val_mean_absolute_error: 61.7823\n",
      "Epoch 4/50\n",
      "2414/2414 [==============================] - 5s 2ms/step - loss: 59.3155 - mean_absolute_error: 59.3155 - val_loss: 57.0590 - val_mean_absolute_error: 57.0590\n",
      "Epoch 5/50\n",
      "2414/2414 [==============================] - 4s 2ms/step - loss: 57.8678 - mean_absolute_error: 57.8678 - val_loss: 57.2344 - val_mean_absolute_error: 57.2344\n",
      "Epoch 6/50\n",
      "2414/2414 [==============================] - 4s 2ms/step - loss: 57.1195 - mean_absolute_error: 57.1195 - val_loss: 56.1088 - val_mean_absolute_error: 56.1088\n",
      "Epoch 7/50\n",
      "2414/2414 [==============================] - 5s 2ms/step - loss: 56.2837 - mean_absolute_error: 56.2837 - val_loss: 55.3843 - val_mean_absolute_error: 55.3843\n",
      "Epoch 8/50\n",
      "2414/2414 [==============================] - 4s 2ms/step - loss: 55.5069 - mean_absolute_error: 55.5069 - val_loss: 54.6839 - val_mean_absolute_error: 54.6839\n",
      "Epoch 9/50\n",
      "2414/2414 [==============================] - 5s 2ms/step - loss: 55.3251 - mean_absolute_error: 55.3251 - val_loss: 55.0263 - val_mean_absolute_error: 55.0263\n",
      "Epoch 10/50\n",
      "2414/2414 [==============================] - 6s 2ms/step - loss: 54.8164 - mean_absolute_error: 54.8164 - val_loss: 54.6271 - val_mean_absolute_error: 54.6271\n",
      "Epoch 11/50\n",
      "2414/2414 [==============================] - 7s 3ms/step - loss: 54.4280 - mean_absolute_error: 54.4280 - val_loss: 56.1355 - val_mean_absolute_error: 56.1355\n",
      "Epoch 12/50\n",
      "2414/2414 [==============================] - 6s 3ms/step - loss: 54.5167 - mean_absolute_error: 54.5167 - val_loss: 53.8758 - val_mean_absolute_error: 53.8758\n",
      "Epoch 13/50\n",
      "2414/2414 [==============================] - 7s 3ms/step - loss: 53.7552 - mean_absolute_error: 53.7552 - val_loss: 52.7821 - val_mean_absolute_error: 52.7821\n",
      "Epoch 14/50\n",
      "2414/2414 [==============================] - 7s 3ms/step - loss: 53.3549 - mean_absolute_error: 53.3549 - val_loss: 52.2277 - val_mean_absolute_error: 52.2277\n",
      "Epoch 15/50\n",
      "2414/2414 [==============================] - 7s 3ms/step - loss: 53.2658 - mean_absolute_error: 53.2658 - val_loss: 52.6153 - val_mean_absolute_error: 52.6153\n",
      "Epoch 16/50\n",
      "2414/2414 [==============================] - 7s 3ms/step - loss: 52.9243 - mean_absolute_error: 52.9243 - val_loss: 53.0055 - val_mean_absolute_error: 53.0055\n",
      "Epoch 17/50\n",
      "2414/2414 [==============================] - 7s 3ms/step - loss: 52.4620 - mean_absolute_error: 52.4620 - val_loss: 53.4572 - val_mean_absolute_error: 53.4572\n",
      "Epoch 18/50\n",
      "2414/2414 [==============================] - 7s 3ms/step - loss: 52.3683 - mean_absolute_error: 52.3683 - val_loss: 54.0236 - val_mean_absolute_error: 54.0236\n",
      "Epoch 19/50\n",
      "2414/2414 [==============================] - 7s 3ms/step - loss: 51.9420 - mean_absolute_error: 51.9420 - val_loss: 51.8191 - val_mean_absolute_error: 51.8191\n",
      "Epoch 20/50\n",
      "2414/2414 [==============================] - 7s 3ms/step - loss: 51.5528 - mean_absolute_error: 51.5528 - val_loss: 50.6814 - val_mean_absolute_error: 50.6814\n",
      "Epoch 21/50\n",
      "2414/2414 [==============================] - 7s 3ms/step - loss: 51.1600 - mean_absolute_error: 51.1600 - val_loss: 51.5315 - val_mean_absolute_error: 51.5315\n",
      "Epoch 22/50\n",
      "2414/2414 [==============================] - 7s 3ms/step - loss: 50.7421 - mean_absolute_error: 50.7421 - val_loss: 52.7931 - val_mean_absolute_error: 52.7931\n",
      "Epoch 23/50\n",
      "2414/2414 [==============================] - 6s 3ms/step - loss: 50.2741 - mean_absolute_error: 50.2741 - val_loss: 50.6542 - val_mean_absolute_error: 50.6542\n",
      "Epoch 24/50\n",
      "2414/2414 [==============================] - 7s 3ms/step - loss: 49.7221 - mean_absolute_error: 49.7221 - val_loss: 51.9915 - val_mean_absolute_error: 51.9915\n",
      "Epoch 25/50\n",
      "2414/2414 [==============================] - 7s 3ms/step - loss: 49.4367 - mean_absolute_error: 49.4367 - val_loss: 49.0035 - val_mean_absolute_error: 49.0035\n",
      "Epoch 26/50\n",
      "2414/2414 [==============================] - 7s 3ms/step - loss: 48.9350 - mean_absolute_error: 48.9350 - val_loss: 51.2663 - val_mean_absolute_error: 51.2663\n",
      "Epoch 27/50\n",
      "2414/2414 [==============================] - 7s 3ms/step - loss: 48.6513 - mean_absolute_error: 48.6513 - val_loss: 49.6685 - val_mean_absolute_error: 49.6685\n",
      "Epoch 28/50\n",
      "2414/2414 [==============================] - 7s 3ms/step - loss: 48.0977 - mean_absolute_error: 48.0977 - val_loss: 47.9072 - val_mean_absolute_error: 47.9072\n",
      "Epoch 29/50\n",
      "2414/2414 [==============================] - 7s 3ms/step - loss: 47.7519 - mean_absolute_error: 47.7519 - val_loss: 48.9816 - val_mean_absolute_error: 48.9816\n",
      "Epoch 30/50\n",
      "2414/2414 [==============================] - 7s 3ms/step - loss: 47.4971 - mean_absolute_error: 47.4971 - val_loss: 48.1244 - val_mean_absolute_error: 48.1244\n",
      "Epoch 31/50\n",
      "2414/2414 [==============================] - 7s 3ms/step - loss: 47.1213 - mean_absolute_error: 47.1213 - val_loss: 46.9127 - val_mean_absolute_error: 46.9127\n",
      "Epoch 32/50\n",
      "2414/2414 [==============================] - 7s 3ms/step - loss: 46.7997 - mean_absolute_error: 46.7997 - val_loss: 47.8937 - val_mean_absolute_error: 47.8937\n",
      "Epoch 33/50\n",
      "2414/2414 [==============================] - 7s 3ms/step - loss: 46.5762 - mean_absolute_error: 46.5762 - val_loss: 48.9299 - val_mean_absolute_error: 48.9299\n",
      "Epoch 34/50\n",
      "2414/2414 [==============================] - 8s 3ms/step - loss: 46.3133 - mean_absolute_error: 46.3133 - val_loss: 46.5651 - val_mean_absolute_error: 46.5651\n",
      "Epoch 35/50\n",
      "2414/2414 [==============================] - 7s 3ms/step - loss: 46.2192 - mean_absolute_error: 46.2192 - val_loss: 45.6901 - val_mean_absolute_error: 45.6901\n",
      "Epoch 36/50\n",
      "2414/2414 [==============================] - 8s 3ms/step - loss: 45.7768 - mean_absolute_error: 45.7768 - val_loss: 46.1211 - val_mean_absolute_error: 46.1211\n",
      "Epoch 37/50\n",
      "2414/2414 [==============================] - 7s 3ms/step - loss: 45.7694 - mean_absolute_error: 45.7694 - val_loss: 49.0130 - val_mean_absolute_error: 49.0130\n",
      "Epoch 38/50\n",
      "2414/2414 [==============================] - 8s 3ms/step - loss: 45.4664 - mean_absolute_error: 45.4664 - val_loss: 44.9808 - val_mean_absolute_error: 44.9808\n",
      "Epoch 39/50\n",
      "2414/2414 [==============================] - 7s 3ms/step - loss: 45.2255 - mean_absolute_error: 45.2255 - val_loss: 46.2573 - val_mean_absolute_error: 46.2573\n",
      "Epoch 40/50\n",
      "2414/2414 [==============================] - 8s 3ms/step - loss: 45.0229 - mean_absolute_error: 45.0229 - val_loss: 47.1258 - val_mean_absolute_error: 47.1258\n",
      "Epoch 41/50\n",
      "2414/2414 [==============================] - 8s 3ms/step - loss: 44.7151 - mean_absolute_error: 44.7151 - val_loss: 45.8924 - val_mean_absolute_error: 45.8924\n",
      "Epoch 42/50\n",
      "2414/2414 [==============================] - 8s 3ms/step - loss: 44.6029 - mean_absolute_error: 44.6029 - val_loss: 47.5045 - val_mean_absolute_error: 47.5045\n",
      "Epoch 43/50\n",
      "2414/2414 [==============================] - 8s 3ms/step - loss: 44.3573 - mean_absolute_error: 44.3573 - val_loss: 45.4960 - val_mean_absolute_error: 45.4960\n",
      "Epoch 44/50\n",
      "2414/2414 [==============================] - 8s 3ms/step - loss: 44.2481 - mean_absolute_error: 44.2481 - val_loss: 46.4478 - val_mean_absolute_error: 46.4478\n",
      "Epoch 45/50\n",
      "2414/2414 [==============================] - 8s 3ms/step - loss: 43.9751 - mean_absolute_error: 43.9751 - val_loss: 43.9962 - val_mean_absolute_error: 43.9962\n",
      "Epoch 46/50\n",
      "2414/2414 [==============================] - 8s 3ms/step - loss: 43.8954 - mean_absolute_error: 43.8954 - val_loss: 46.2876 - val_mean_absolute_error: 46.2876\n",
      "Epoch 47/50\n",
      "2414/2414 [==============================] - 8s 3ms/step - loss: 43.5742 - mean_absolute_error: 43.5742 - val_loss: 46.9078 - val_mean_absolute_error: 46.9078\n",
      "Epoch 48/50\n",
      "2414/2414 [==============================] - 9s 4ms/step - loss: 43.4280 - mean_absolute_error: 43.4280 - val_loss: 44.0756 - val_mean_absolute_error: 44.0756\n",
      "Epoch 49/50\n",
      "2414/2414 [==============================] - 8s 3ms/step - loss: 43.2425 - mean_absolute_error: 43.2425 - val_loss: 43.7618 - val_mean_absolute_error: 43.7618\n",
      "Epoch 50/50\n",
      "2414/2414 [==============================] - 9s 4ms/step - loss: 42.9219 - mean_absolute_error: 42.9219 - val_loss: 43.8463 - val_mean_absolute_error: 43.8463\n"
     ]
    }
   ],
   "source": [
    "X = glathida_rgis.drop(['ith_m','ith_f','THICKNESS','RGIId'],axis=1) \n",
    "scaler = MinMaxScaler()\n",
    "\n",
    "X = pd.DataFrame(scaler.fit_transform(X.values), columns=X.columns, index=X.index)\n",
    "y = glathida_rgis['THICKNESS'] \n",
    "\n",
    "X_train, X_test, y_train, y_test = train_test_split(X, y,train_size = 0.95, random_state=1)\n",
    "\n",
    "model = Sequential([\n",
    "    Dense(50,activation='LeakyReLU'   ,name='input_layer'),\n",
    "    Dense(75,activation='relu'   ,name='hidden_layer1'),\n",
    "    Dense(75,activation='relu'   ,name='hidden_layer2'),\n",
    "    Dense(1, name='output')])\n",
    "\n",
    "model.compile(optimizer='adam',\n",
    "              loss= 'mean_absolute_error',\n",
    "              metrics=['mean_absolute_error'])\n",
    "\n",
    "print('--------- TRAINING ---------')\n",
    "early_stopping = EarlyStopping(monitor='val_loss', patience=10, restore_best_weights=True)\n",
    "\n",
    "history = model.fit(x = np.array(X_train), y = np.array(y_train),validation_data=(np.array(X_test), np.array(y_test)), \n",
    "                    epochs = 50, callbacks=[early_stopping]) "
   ]
  },
  {
   "cell_type": "code",
   "execution_count": 19,
   "id": "bba418f8-7ba1-48ef-af1f-31cb312ce0fe",
   "metadata": {
    "tags": []
   },
   "outputs": [],
   "source": [
    "# print(X_test)"
   ]
  },
  {
   "cell_type": "code",
   "execution_count": 29,
   "id": "9cdc83a1-2493-4b0c-b054-36889ab91a21",
   "metadata": {
    "tags": []
   },
   "outputs": [
    {
     "name": "stdout",
     "output_type": "stream",
     "text": [
      "128/128 [==============================] - 0s 1ms/step\n"
     ]
    },
    {
     "data": {
      "text/plain": [
       "0.6690484659870387"
      ]
     },
     "execution_count": 29,
     "metadata": {},
     "output_type": "execute_result"
    }
   ],
   "source": [
    "preds = model.predict(X_test)\n",
    "r2_score(preds, y_test)"
   ]
  },
  {
   "cell_type": "code",
   "execution_count": 42,
   "id": "f95d67ed-aa6d-4216-bbca-e248eb878e11",
   "metadata": {
    "tags": []
   },
   "outputs": [
    {
     "name": "stdout",
     "output_type": "stream",
     "text": [
      "                                             geometry\n",
      "0   POLYGON ((-133.00000 54.50000, -134.00000 54.5...\n",
      "1   POLYGON ((180.00000 50.00000, 179.00000 50.000...\n",
      "2   POLYGON ((-133.00000 54.50000, -132.00000 54.5...\n",
      "3   POLYGON ((-125.00000 74.00000, -125.00000 75.0...\n",
      "4   POLYGON ((-90.00000 74.00000, -89.00000 74.000...\n",
      "5   POLYGON ((-75.00000 77.00000, -74.73000 77.510...\n",
      "6   POLYGON ((-26.00000 59.00000, -26.00000 60.000...\n",
      "7   POLYGON ((-10.00000 70.00000, -10.00000 71.000...\n",
      "8   POLYGON ((4.00000 70.00000, 4.00000 71.00000, ...\n",
      "9   POLYGON ((35.00000 70.00000, 35.00000 71.00000...\n",
      "10  POLYGON ((-180.00000 78.00000, -179.00000 78.0...\n",
      "11  POLYGON ((128.00000 46.00000, 127.00000 46.000...\n",
      "12  POLYGON ((-6.00000 40.00000, -6.00000 41.00000...\n",
      "13  POLYGON ((32.00000 31.00000, 32.00000 32.00000...\n",
      "14  POLYGON ((80.00000 46.00000, 81.00000 46.00000...\n",
      "15  POLYGON ((75.40000 26.00000, 75.00000 26.00000...\n",
      "16  POLYGON ((75.40000 26.00000, 75.40000 27.00000...\n",
      "17  POLYGON ((-100.00000 -25.00000, -100.00000 -24...\n",
      "18  POLYGON ((-62.00000 -45.50000, -62.00000 -46.0...\n",
      "19  POLYGON ((179.00000 -49.00000, 178.00000 -49.0...\n",
      "20  POLYGON ((-180.00000 -45.50000, -179.00000 -45...\n"
     ]
    }
   ],
   "source": [
    "# See all RGI's regional boundaries\n",
    "# See pag 8 at https://nsidc.org/sites/nsidc.org/files/technical-references/RGI_Tech_Report_V6.0.pdf\n",
    "world = gpd.read_file(path_O1_shp)      # import as geopandas dataframe\n",
    "print(world)\n",
    "fig, ax = plt.subplots()\n",
    "for n, rgi_series in enumerate(world['geometry']):\n",
    "    x, y = rgi_series.exterior.xy\n",
    "    min_x, max_x = min(x), max(x)\n",
    "    min_y, max_y = min(y), max(y)\n",
    "    ax.plot(x, y, c='g')\n",
    "    # ax.text(np.mean([min_x, max_x]), np.mean([min_y, max_y]), f\"{world['RGI_CODE'].iloc[n]}\", color='green', fontsize=9)\n",
    "    ax.text(np.mean([min_x, max_x]), np.mean([min_y, max_y]), f\"{world['geometry'].iloc[n]}\", color='green', fontsize=9)\n",
    "\n",
    "plt.show()"
   ]
  },
  {
   "cell_type": "code",
   "execution_count": 60,
   "id": "27ddff4f-7e15-44a3-ab5d-27c04bb05dc9",
   "metadata": {
    "tags": []
   },
   "outputs": [],
   "source": []
  },
  {
   "cell_type": "code",
   "execution_count": 69,
   "id": "5026ade0-fba5-499d-828f-9e2e14587197",
   "metadata": {
    "tags": []
   },
   "outputs": [],
   "source": [
    "# Let's select one region of interest, e.g. rgi=11 (Central Europe)\n",
    "\n",
    "# Dataframe of glaciers for rgi=11. This dataset contains a lot of info, some of them are also used to create the\n",
    "# training dataset. RGIId is the official name of glaciers according to the Randolph Glacier Inventory. \n",
    "# In the column geometry you get the geometries. \n",
    "\n",
    "rgi = 11\n",
    "oggm_rgi_shp = \"11_rgi62_CentralEurope.shp\" # .shp file for rgi 11\n",
    "# oggm_rgi_shp = glob.glob(f\"/home/maffe/OGGM/rgi/RGIV62/{rgi}*/{rgi}*.shp\")[0] # .shp file for rgi 11\n",
    "oggm_rgi_glaciers = gpd.read_file(oggm_rgi_shp)                         # dataframe for rgi 11\n"
   ]
  },
  {
   "cell_type": "code",
   "execution_count": 81,
   "id": "2ae24249-37a9-4676-b27e-bf0205292824",
   "metadata": {
    "tags": []
   },
   "outputs": [
    {
     "data": {
      "text/plain": [
       "0       POLYGON ((13.60035 47.49330, 13.59995 47.49332...\n",
       "1       POLYGON ((13.60638 47.47578, 13.60599 47.47579...\n",
       "2       POLYGON ((13.59765 47.47613, 13.59726 47.47614...\n",
       "3       POLYGON ((13.58283 47.47969, 13.58243 47.47971...\n",
       "4       POLYGON ((13.60076 47.47519, 13.60036 47.47521...\n",
       "                              ...                        \n",
       "3922    POLYGON ((13.44285 46.36257, 13.44293 46.36257...\n",
       "3923    POLYGON ((13.44437 46.43624, 13.44404 46.43624...\n",
       "3924    POLYGON ((13.44764 46.36464, 13.44761 46.36465...\n",
       "3925    POLYGON ((13.44990 46.36638, 13.44989 46.36644...\n",
       "3926    POLYGON ((13.47392 46.36846, 13.47396 46.36846...\n",
       "Name: geometry, Length: 3927, dtype: geometry"
      ]
     },
     "execution_count": 81,
     "metadata": {},
     "output_type": "execute_result"
    }
   ],
   "source": [
    "oggm_rgi_glaciers['geometry']\n"
   ]
  },
  {
   "cell_type": "code",
   "execution_count": 86,
   "id": "c282a805-a6f7-4df3-9b26-087fa81bbd7d",
   "metadata": {
    "tags": []
   },
   "outputs": [
    {
     "name": "stdout",
     "output_type": "stream",
     "text": [
      "We have 49 points in the training dataset\n"
     ]
    },
    {
     "ename": "NameError",
     "evalue": "name 'glacier_geometry' is not defined",
     "output_type": "error",
     "traceback": [
      "\u001b[1;31m---------------------------------------------------------------------------\u001b[0m",
      "\u001b[1;31mNameError\u001b[0m                                 Traceback (most recent call last)",
      "Cell \u001b[1;32mIn[86], line 14\u001b[0m\n\u001b[0;32m     11\u001b[0m \u001b[38;5;28mprint\u001b[39m(\u001b[38;5;124mf\u001b[39m\u001b[38;5;124m\"\u001b[39m\u001b[38;5;124mWe have \u001b[39m\u001b[38;5;132;01m{\u001b[39;00m\u001b[38;5;28mlen\u001b[39m(glathida_rgis_aletsch)\u001b[38;5;132;01m}\u001b[39;00m\u001b[38;5;124m points in the training dataset\u001b[39m\u001b[38;5;124m\"\u001b[39m)\n\u001b[0;32m     13\u001b[0m fig, ax \u001b[38;5;241m=\u001b[39m plt\u001b[38;5;241m.\u001b[39msubplots()\n\u001b[1;32m---> 14\u001b[0m exterior_ring \u001b[38;5;241m=\u001b[39m glacier_geometry\u001b[38;5;241m.\u001b[39mexterior \u001b[38;5;66;03m# External geometry\u001b[39;00m\n\u001b[0;32m     15\u001b[0m ax\u001b[38;5;241m.\u001b[39mplot(\u001b[38;5;241m*\u001b[39mexterior_ring\u001b[38;5;241m.\u001b[39mxy, c\u001b[38;5;241m=\u001b[39m\u001b[38;5;124m'\u001b[39m\u001b[38;5;124mb\u001b[39m\u001b[38;5;124m'\u001b[39m)\n\u001b[0;32m     16\u001b[0m glacier_nunataks_list \u001b[38;5;241m=\u001b[39m [nunatak \u001b[38;5;28;01mfor\u001b[39;00m nunatak \u001b[38;5;129;01min\u001b[39;00m glacier_geometry\u001b[38;5;241m.\u001b[39minteriors] \u001b[38;5;66;03m# Nunataks (list may be empty if no nunataks)\u001b[39;00m\n",
      "\u001b[1;31mNameError\u001b[0m: name 'glacier_geometry' is not defined"
     ]
    }
   ],
   "source": [
    "# Plot one specific glacier by passing the RGIId code.\n",
    "# Example: RGI60-11.01450 is the Aletsch Glacier, the biggest in Central Europe (rgi=11).\n",
    "# You under the geometry column you find the glacier external boundary (.external)\n",
    "# and the glacier nunataks, if any (.interiors). Nunataks are the inner glacier portions that are deglaciated (=rock).\n",
    "# We can also find the points in the training dataset for this glacier (not all glaciers contain measurements)\n",
    "\n",
    "# glacier_geometry = oggm_rgi_glaciers.loc[oggm_rgi_glaciers['RGIId']=='RGI60-11.01450']['geometry'].item()\n",
    "\n",
    "# Get the measurements in the training dataset by passing the glacier id\n",
    "glathida_rgis_aletsch = glathida_rgis.loc[glathida_rgis['RGIId']=='RGI60-11.01450']\n",
    "print(f\"We have {len(glathida_rgis_aletsch)} points in the training dataset\")\n",
    "\n",
    "fig, ax = plt.subplots()\n",
    "exterior_ring = glacier_geometry.exterior # External geometry\n",
    "ax.plot(*exterior_ring.xy, c='b')\n",
    "glacier_nunataks_list = [nunatak for nunatak in glacier_geometry.interiors] # Nunataks (list may be empty if no nunataks)\n",
    "for nunatak in glacier_nunataks_list:\n",
    "    ax.plot(*nunatak.xy, c='k', lw=0.8)\n",
    "ax.scatter(x=glathida_rgis_aletsch['POINT_LON'], y=glathida_rgis_aletsch['POINT_LAT'], s=20, c='orange', label='Training points')\n",
    "ax.legend()\n",
    "plt.show()"
   ]
  },
  {
   "cell_type": "code",
   "execution_count": null,
   "id": "29542959-0a02-45cd-a8bf-09f657bea508",
   "metadata": {
    "tags": []
   },
   "outputs": [],
   "source": [
    "# Plot the whole regional set of glaciers and all nunataks\n",
    "# zoom in with matplotlib in interactive mode (%matplotlib qt ) to have a sense of all glacier and their nunataks\n",
    "\n",
    "region11 = world.loc[12] # Regional boundary\n",
    "fig, ax = plt.subplots()\n",
    "for glacier_rgiid, glacier_geometry in zip(oggm_rgi_glaciers['RGIId'], oggm_rgi_glaciers['geometry']):\n",
    "\n",
    "    exterior_ring = glacier_geometry.exterior\n",
    "    glacier_nunataks_list = [nunatak for nunatak in glacier_geometry.interiors]\n",
    "\n",
    "    ax.plot(*exterior_ring.xy, c='b')\n",
    "    for nunatak in glacier_nunataks_list:\n",
    "        ax.plot(*nunatak.xy, c='k', lw=0.8) # Plot glacier nunataks (if any)\n",
    "ax.plot(*region11['geometry'].exterior.xy, c='g') # Regional boundary\n",
    "ax.text(min(*region11['geometry'].exterior.xy[0])+1,\n",
    "        max(*region11['geometry'].exterior.xy[1])-1, f'rgi {rgi}', c='g', fontsize=12)\n",
    "plt.show()"
   ]
  },
  {
   "cell_type": "code",
   "execution_count": null,
   "id": "abd985bb-db27-49d3-a97d-1448301d9c78",
   "metadata": {},
   "outputs": [],
   "source": []
  }
 ],
 "metadata": {
  "kernelspec": {
   "display_name": "MLenv",
   "language": "python",
   "name": "mlenv"
  },
  "language_info": {
   "codemirror_mode": {
    "name": "ipython",
    "version": 3
   },
   "file_extension": ".py",
   "mimetype": "text/x-python",
   "name": "python",
   "nbconvert_exporter": "python",
   "pygments_lexer": "ipython3",
   "version": "3.10.13"
  }
 },
 "nbformat": 4,
 "nbformat_minor": 5
}
