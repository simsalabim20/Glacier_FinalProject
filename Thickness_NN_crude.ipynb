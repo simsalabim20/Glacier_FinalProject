{
 "cells": [
  {
   "cell_type": "code",
   "execution_count": 2,
   "id": "6a3a522d-7ee1-489e-b5a6-36a24e0fc189",
   "metadata": {
    "tags": []
   },
   "outputs": [],
   "source": [
    "import glob\n",
    "import argparse\n",
    "import numpy as np\n",
    "import pandas as pd\n",
    "import geopandas as gpd\n",
    "import matplotlib.pyplot as plt\n",
    "import oggm\n",
    "from oggm import utils\n",
    "\n",
    "from __future__ import print_function, division   # Ensures Python3 printing & division standard\n",
    "from matplotlib import pyplot as plt\n",
    "from matplotlib import colors\n",
    "from matplotlib.pylab import rcParams\n",
    "\n",
    "import numpy as np\n",
    "import pandas as pd \n",
    "from sklearn import tree\n",
    "from sklearn.metrics import confusion_matrix, accuracy_score,mean_squared_error, mean_absolute_error, r2_score, roc_curve,auc\n",
    "from sklearn.tree import DecisionTreeClassifier, plot_tree,export_graphviz\n",
    "from sklearn.model_selection import train_test_split,RandomizedSearchCV\n",
    "from sklearn.inspection import permutation_importance\n",
    "from sklearn.neural_network import MLPClassifier\n",
    "\n",
    "from scipy.stats import randint, poisson\n",
    "from sklearn.preprocessing import MinMaxScaler\n",
    "\n",
    "import xgboost as xgb\n",
    "from xgboost import plot_tree\n",
    "\n",
    "import tensorflow as tf\n",
    "from tensorflow.keras.models import Sequential\n",
    "from tensorflow.keras.layers import Dense\n",
    "from tensorflow.keras.callbacks import EarlyStopping, ModelCheckpoint\n",
    "\n",
    "from ipywidgets import interactive\n",
    "from graphviz import Source\n",
    "from IPython.display import SVG\n",
    "\n",
    "import csv\n",
    "\n",
    "%matplotlib qt "
   ]
  },
  {
   "cell_type": "code",
   "execution_count": 3,
   "id": "60e42cb5-b673-45ad-b2eb-e3f3e1446c45",
   "metadata": {
    "tags": []
   },
   "outputs": [
    {
     "data": {
      "text/plain": [
       "'C:\\\\Users\\\\damsg\\\\OGGM\\\\rgi\\\\RGIV62'"
      ]
     },
     "execution_count": 3,
     "metadata": {},
     "output_type": "execute_result"
    }
   ],
   "source": [
    "# Setup oggm: important we want to use oggm's version 62 of all glacier geometries. This command will download them.\n",
    "utils.get_rgi_dir(version='62')"
   ]
  },
  {
   "cell_type": "code",
   "execution_count": 4,
   "id": "2111f8e7-45b8-45ea-a856-8991d311d48d",
   "metadata": {
    "tags": []
   },
   "outputs": [
    {
     "data": {
      "text/plain": [
       "(81290, 58)"
      ]
     },
     "execution_count": 4,
     "metadata": {},
     "output_type": "execute_result"
    }
   ],
   "source": [
    "path_O1_shp = '00_rgi60_O1Regions.shp' # shp file of regional boundaries\n",
    "\n",
    "# Import 20-bin gridded training dataset\n",
    "metadata_file = \"metadata19_hmineq0.0_tmin20050000_mean_grid_20.csv\"\n",
    "glathida_rgis = pd.read_csv(metadata_file, low_memory=False)\n",
    "np.shape(glathida_rgis)"
   ]
  },
  {
   "cell_type": "code",
   "execution_count": 15,
   "id": "1043e6ba-3847-409e-8c4e-2f751e8f91d1",
   "metadata": {
    "tags": []
   },
   "outputs": [
    {
     "name": "stdout",
     "output_type": "stream",
     "text": [
      "(81290, 69)\n",
      "--------- TRAINING ---------\n",
      "Epoch 1/10\n",
      "2033/2033 [==============================] - 5s 2ms/step - loss: 64.1185 - mean_absolute_error: 64.1185 - val_loss: 56.7921 - val_mean_absolute_error: 56.7921\n",
      "Epoch 2/10\n",
      "2033/2033 [==============================] - 4s 2ms/step - loss: 54.1260 - mean_absolute_error: 54.1260 - val_loss: 53.1123 - val_mean_absolute_error: 53.1123\n",
      "Epoch 3/10\n",
      "2033/2033 [==============================] - 4s 2ms/step - loss: 51.8942 - mean_absolute_error: 51.8942 - val_loss: 52.4031 - val_mean_absolute_error: 52.4031\n",
      "Epoch 4/10\n",
      "2033/2033 [==============================] - 5s 2ms/step - loss: 49.7585 - mean_absolute_error: 49.7585 - val_loss: 49.4271 - val_mean_absolute_error: 49.4271\n",
      "Epoch 5/10\n",
      "2033/2033 [==============================] - 4s 2ms/step - loss: 48.1011 - mean_absolute_error: 48.1011 - val_loss: 50.9038 - val_mean_absolute_error: 50.9038\n",
      "Epoch 6/10\n",
      "2033/2033 [==============================] - 4s 2ms/step - loss: 47.2191 - mean_absolute_error: 47.2191 - val_loss: 47.1614 - val_mean_absolute_error: 47.1614\n",
      "Epoch 7/10\n",
      "2033/2033 [==============================] - 4s 2ms/step - loss: 46.3682 - mean_absolute_error: 46.3682 - val_loss: 47.5345 - val_mean_absolute_error: 47.5345\n",
      "Epoch 8/10\n",
      "2033/2033 [==============================] - 5s 2ms/step - loss: 45.3293 - mean_absolute_error: 45.3293 - val_loss: 45.9999 - val_mean_absolute_error: 45.9999\n",
      "Epoch 9/10\n",
      "2033/2033 [==============================] - 5s 2ms/step - loss: 44.4648 - mean_absolute_error: 44.4648 - val_loss: 43.5932 - val_mean_absolute_error: 43.5932\n",
      "Epoch 10/10\n",
      "2033/2033 [==============================] - 5s 2ms/step - loss: 43.7415 - mean_absolute_error: 43.7415 - val_loss: 44.2855 - val_mean_absolute_error: 44.2855\n",
      "CPU times: total: 4min 11s\n",
      "Wall time: 45.1 s\n"
     ]
    }
   ],
   "source": [
    "%%time\n",
    "glathida_rgis = pd.read_csv(metadata_file, low_memory=False)\n",
    "\n",
    "glathida_rgis['lat'] = glathida_rgis['POINT_LAT']\n",
    "glathida_rgis['v50'] = np.sqrt(glathida_rgis['vx_gf50']**2 + glathida_rgis['vy_gf50']**2)\n",
    "glathida_rgis['v100'] = np.sqrt(glathida_rgis['vx_gf100']**2 + glathida_rgis['vy_gf100']**2)\n",
    "glathida_rgis['v150'] = np.sqrt(glathida_rgis['vx_gf150']**2 + glathida_rgis['vy_gf150']**2)\n",
    "glathida_rgis['v300'] = np.sqrt(glathida_rgis['vx_gf300']**2 + glathida_rgis['vy_gf300']**2)\n",
    "glathida_rgis['v450'] = np.sqrt(glathida_rgis['vx_gf450']**2 + glathida_rgis['vy_gf450']**2)\n",
    "glathida_rgis['vgfa'] = np.sqrt(glathida_rgis['vx_gfa']**2 + glathida_rgis['vy_gfa']**2)\n",
    "glathida_rgis['dvx'] = np.sqrt(glathida_rgis['dvx_dx']**2 + glathida_rgis['dvx_dy']**2)\n",
    "\n",
    "glathida_rgis['slope50'] = np.sqrt(glathida_rgis['slope_lon_gf50']**2 + glathida_rgis['slope_lat_gf50']**2)\n",
    "glathida_rgis['slope100'] = np.sqrt(glathida_rgis['slope_lon_gf100']**2 + glathida_rgis['slope_lat_gf100']**2)\n",
    "glathida_rgis['slope150'] = np.sqrt(glathida_rgis['slope_lon_gf150']**2 + glathida_rgis['slope_lat_gf150']**2)\n",
    "glathida_rgis['slope300'] = np.sqrt(glathida_rgis['slope_lon_gf300']**2 + glathida_rgis['slope_lat_gf300']**2)\n",
    "glathida_rgis['slope450'] = np.sqrt(glathida_rgis['slope_lon_gf450']**2 + glathida_rgis['slope_lat_gf450']**2)\n",
    "glathida_rgis['slopegfa'] = np.sqrt(glathida_rgis['slope_lon_gfa']**2 + glathida_rgis['slope_lat_gfa']**2)\n",
    "glathida_rgis['elevation_from_zmin'] = glathida_rgis['elevation'] - glathida_rgis['Zmin']\n",
    "\n",
    "X = glathida_rgis.drop(['ith_m','ith_f','THICKNESS','RGIId'],axis=1) \n",
    "scaler = MinMaxScaler()\n",
    "\n",
    "X = pd.DataFrame(scaler.fit_transform(X.values), columns=X.columns, index=X.index)\n",
    "y = glathida_rgis['THICKNESS'] \n",
    "print(np.shape(X))\n",
    "X_train, X_test, y_train, y_test = train_test_split(X, y,train_size = 0.8, random_state=1)\n",
    "\n",
    "\n",
    "model = Sequential([\n",
    "    Dense(65,activation='LeakyReLU'   ,name='input_layer'),\n",
    "    Dense(90,activation='relu'   ,name='hidden_layer1'),\n",
    "    Dense(90,activation='relu'   ,name='hidden_layer2'),\n",
    "    Dense(1, name='output')])\n",
    "\n",
    "model.compile(optimizer='adam',\n",
    "              loss= 'mean_absolute_error',\n",
    "              metrics=['mean_absolute_error'])\n",
    "\n",
    "print('--------- TRAINING ---------')\n",
    "early_stopping = EarlyStopping(monitor='val_loss', patience=10, restore_best_weights=True)\n",
    "\n",
    "history = model.fit(x = np.array(X_train), y = np.array(y_train),validation_data=(np.array(X_test), np.array(y_test)), \n",
    "                    epochs = 10, callbacks=[early_stopping]) "
   ]
  },
  {
   "cell_type": "code",
   "execution_count": 19,
   "id": "bba418f8-7ba1-48ef-af1f-31cb312ce0fe",
   "metadata": {
    "tags": []
   },
   "outputs": [],
   "source": [
    "# print(X_test)"
   ]
  },
  {
   "cell_type": "code",
   "execution_count": 15,
   "id": "9cdc83a1-2493-4b0c-b054-36889ab91a21",
   "metadata": {
    "tags": []
   },
   "outputs": [
    {
     "name": "stdout",
     "output_type": "stream",
     "text": [
      "2109/2109 [==============================] - 4s 2ms/step\n"
     ]
    },
    {
     "data": {
      "text/plain": [
       "0.7576911443801286"
      ]
     },
     "execution_count": 15,
     "metadata": {},
     "output_type": "execute_result"
    }
   ],
   "source": [
    "preds = model.predict(X_test)\n",
    "r2_score(preds, y_test)"
   ]
  },
  {
   "cell_type": "code",
   "execution_count": 42,
   "id": "f95d67ed-aa6d-4216-bbca-e248eb878e11",
   "metadata": {
    "tags": []
   },
   "outputs": [
    {
     "name": "stdout",
     "output_type": "stream",
     "text": [
      "                                             geometry\n",
      "0   POLYGON ((-133.00000 54.50000, -134.00000 54.5...\n",
      "1   POLYGON ((180.00000 50.00000, 179.00000 50.000...\n",
      "2   POLYGON ((-133.00000 54.50000, -132.00000 54.5...\n",
      "3   POLYGON ((-125.00000 74.00000, -125.00000 75.0...\n",
      "4   POLYGON ((-90.00000 74.00000, -89.00000 74.000...\n",
      "5   POLYGON ((-75.00000 77.00000, -74.73000 77.510...\n",
      "6   POLYGON ((-26.00000 59.00000, -26.00000 60.000...\n",
      "7   POLYGON ((-10.00000 70.00000, -10.00000 71.000...\n",
      "8   POLYGON ((4.00000 70.00000, 4.00000 71.00000, ...\n",
      "9   POLYGON ((35.00000 70.00000, 35.00000 71.00000...\n",
      "10  POLYGON ((-180.00000 78.00000, -179.00000 78.0...\n",
      "11  POLYGON ((128.00000 46.00000, 127.00000 46.000...\n",
      "12  POLYGON ((-6.00000 40.00000, -6.00000 41.00000...\n",
      "13  POLYGON ((32.00000 31.00000, 32.00000 32.00000...\n",
      "14  POLYGON ((80.00000 46.00000, 81.00000 46.00000...\n",
      "15  POLYGON ((75.40000 26.00000, 75.00000 26.00000...\n",
      "16  POLYGON ((75.40000 26.00000, 75.40000 27.00000...\n",
      "17  POLYGON ((-100.00000 -25.00000, -100.00000 -24...\n",
      "18  POLYGON ((-62.00000 -45.50000, -62.00000 -46.0...\n",
      "19  POLYGON ((179.00000 -49.00000, 178.00000 -49.0...\n",
      "20  POLYGON ((-180.00000 -45.50000, -179.00000 -45...\n"
     ]
    }
   ],
   "source": [
    "# See all RGI's regional boundaries\n",
    "# See pag 8 at https://nsidc.org/sites/nsidc.org/files/technical-references/RGI_Tech_Report_V6.0.pdf\n",
    "world = gpd.read_file(path_O1_shp)      # import as geopandas dataframe\n",
    "print(world)\n",
    "fig, ax = plt.subplots()\n",
    "for n, rgi_series in enumerate(world['geometry']):\n",
    "    x, y = rgi_series.exterior.xy\n",
    "    min_x, max_x = min(x), max(x)\n",
    "    min_y, max_y = min(y), max(y)\n",
    "    ax.plot(x, y, c='g')\n",
    "    # ax.text(np.mean([min_x, max_x]), np.mean([min_y, max_y]), f\"{world['RGI_CODE'].iloc[n]}\", color='green', fontsize=9)\n",
    "    ax.text(np.mean([min_x, max_x]), np.mean([min_y, max_y]), f\"{world['geometry'].iloc[n]}\", color='green', fontsize=9)\n",
    "\n",
    "plt.show()"
   ]
  },
  {
   "cell_type": "code",
   "execution_count": 87,
   "id": "27ddff4f-7e15-44a3-ab5d-27c04bb05dc9",
   "metadata": {
    "tags": []
   },
   "outputs": [
    {
     "name": "stdout",
     "output_type": "stream",
     "text": [
      "(array([0., 1., 2., 5.]), array([62807, 13969,   428,  4086], dtype=int64))\n",
      "(array([0., 1.]), array([62033, 19257], dtype=int64))\n",
      "0        RGI60-11.00638\n",
      "1        RGI60-11.00638\n",
      "2        RGI60-11.00638\n",
      "3        RGI60-11.00638\n",
      "4        RGI60-11.00638\n",
      "              ...      \n",
      "81285    RGI60-01.14479\n",
      "81286    RGI60-01.14479\n",
      "81287    RGI60-01.14479\n",
      "81288    RGI60-01.14479\n",
      "81289    RGI60-01.14479\n",
      "Name: RGIId, Length: 81290, dtype: object\n"
     ]
    }
   ],
   "source": [
    "print(np.unique(glathida_rgis['TermType'],return_counts=True))\n",
    "print(np.unique(glathida_rgis['Form'],return_counts=True))\n",
    "# (glathida_rgis['RGIId'])"
   ]
  },
  {
   "cell_type": "code",
   "execution_count": 104,
   "id": "83f80e39-fda1-44b2-8323-f773c8ba7188",
   "metadata": {
    "tags": []
   },
   "outputs": [
    {
     "name": "stdout",
     "output_type": "stream",
     "text": [
      "All values in TermType are uniform for each RGIId.\n",
      "All values in Form are uniform for each RGIId.\n"
     ]
    },
    {
     "data": {
      "text/plain": [
       "'2.0'"
      ]
     },
     "execution_count": 104,
     "metadata": {},
     "output_type": "execute_result"
    }
   ],
   "source": [
    "import pandas as pd\n",
    "import numpy as np\n",
    "\n",
    "# Assuming glathida_rgis is a DataFrame\n",
    "polygon_names = np.unique(glathida_rgis['RGIId'])\n",
    "\n",
    "# Extract TermType and Form for each unique RGIId\n",
    "def extract_termtype_and_form(df):\n",
    "    results = []\n",
    "    \n",
    "    grouped = df.groupby('RGIId')\n",
    "    \n",
    "    for name, group in grouped:\n",
    "        termtype_value = int(group['TermType'].iloc[0])\n",
    "        form_value = group['Form'].iloc[0]\n",
    "        results.append((name, termtype_value, form_value))\n",
    "    \n",
    "    return results\n",
    "\n",
    "# Extract the values\n",
    "uniform_results = extract_termtype_and_form(glathida_rgis)\n",
    "\n",
    "# Convert the results to a pandas DataFrame\n",
    "results_df = pd.DataFrame(uniform_results, columns=['RGIId', 'TermType', 'Form'])\n",
    "\n",
    "# Print the DataFrame\n",
    "print(\"Results DataFrame:\")\n",
    "print(results_df)\n",
    "\n",
    "TermType = results_df['TermType']\n",
    "Form = results_df['Form']\n",
    "print(np.unique(Form))\n",
    "print(np.unique(TermType))\n"
   ]
  },
  {
   "cell_type": "code",
   "execution_count": 161,
   "id": "1819a239-208d-4ee8-97e9-626c6c2c6c64",
   "metadata": {
    "tags": []
   },
   "outputs": [
    {
     "name": "stdout",
     "output_type": "stream",
     "text": [
      "(24696, 58)\n",
      "Number of unique RGIId values where THICKNESS is 0 and ith_f or ith_m exist: 1412\n",
      "Number of unique RGIId values where THICKNESS is 0 and ith_f exist         : 1397\n",
      "Number of unique RGIId values where THICKNESS is 0 and ith_m exist         : 1240\n"
     ]
    }
   ],
   "source": [
    "# import pandas as pd\n",
    "\n",
    "# Assuming glathida_rgis is your DataFrame\n",
    "print(np.shape( glathida_rgis[(glathida_rgis['THICKNESS'] == 0)]))\n",
    "# Check if 'ith_f' or 'ith_m' columns exist\n",
    "columns_exist = {'ith_f', 'ith_m'}.intersection(glathida_rgis.columns)\n",
    "columns_exist1 = {'ith_f'}.intersection(glathida_rgis.columns)\n",
    "columns_exist2 = {'ith_m'}.intersection(glathida_rgis.columns)\n",
    "\n",
    "if columns_exist:\n",
    "    filtered_df1 = glathida_rgis[(glathida_rgis['THICKNESS'] == 0) & (glathida_rgis[list(columns_exist1)].notnull().any(axis=1))]\n",
    "    filtered_df2 = glathida_rgis[(glathida_rgis['THICKNESS'] == 0) & (glathida_rgis[list(columns_exist2)].notnull().any(axis=1))]\n",
    "    filtered_df = glathida_rgis[(glathida_rgis['THICKNESS'] == 0) & (glathida_rgis[list(columns_exist)].notnull().any(axis=1))]\n",
    "\n",
    "    # Count the number of unique RGIId values\n",
    "    num_rgi_ids = filtered_df['RGIId'].nunique()\n",
    "    num_rgi_ids1 = filtered_df1['RGIId'].nunique()\n",
    "    num_rgi_ids2 = filtered_df2['RGIId'].nunique()\n",
    "    \n",
    "    print(f\"Number of unique RGIId values where THICKNESS is 0 and ith_f or ith_m exist: {num_rgi_ids}\")\n",
    "    print(f\"Number of unique RGIId values where THICKNESS is 0 and ith_f exist         : {num_rgi_ids1}\")\n",
    "    print(f\"Number of unique RGIId values where THICKNESS is 0 and ith_m exist         : {num_rgi_ids2}\")\n",
    "\n",
    "else:\n",
    "    print(\"Neither 'ith_f' nor 'ith_m' columns exist in the DataFrame.\")\n"
   ]
  },
  {
   "cell_type": "code",
   "execution_count": 69,
   "id": "5026ade0-fba5-499d-828f-9e2e14587197",
   "metadata": {
    "tags": []
   },
   "outputs": [],
   "source": [
    "# Let's select one region of interest, e.g. rgi=11 (Central Europe)\n",
    "\n",
    "# Dataframe of glaciers for rgi=11. This dataset contains a lot of info, some of them are also used to create the\n",
    "# training dataset. RGIId is the official name of glaciers according to the Randolph Glacier Inventory. \n",
    "# In the column geometry you get the geometries. \n",
    "\n",
    "rgi = 11\n",
    "oggm_rgi_shp = \"11_rgi62_CentralEurope.shp\" # .shp file for rgi 11\n",
    "# oggm_rgi_shp = glob.glob(f\"/home/maffe/OGGM/rgi/RGIV62/{rgi}*/{rgi}*.shp\")[0] # .shp file for rgi 11\n",
    "oggm_rgi_glaciers = gpd.read_file(oggm_rgi_shp)                         # dataframe for rgi 11\n"
   ]
  },
  {
   "cell_type": "code",
   "execution_count": 81,
   "id": "2ae24249-37a9-4676-b27e-bf0205292824",
   "metadata": {
    "tags": []
   },
   "outputs": [
    {
     "data": {
      "text/plain": [
       "0       POLYGON ((13.60035 47.49330, 13.59995 47.49332...\n",
       "1       POLYGON ((13.60638 47.47578, 13.60599 47.47579...\n",
       "2       POLYGON ((13.59765 47.47613, 13.59726 47.47614...\n",
       "3       POLYGON ((13.58283 47.47969, 13.58243 47.47971...\n",
       "4       POLYGON ((13.60076 47.47519, 13.60036 47.47521...\n",
       "                              ...                        \n",
       "3922    POLYGON ((13.44285 46.36257, 13.44293 46.36257...\n",
       "3923    POLYGON ((13.44437 46.43624, 13.44404 46.43624...\n",
       "3924    POLYGON ((13.44764 46.36464, 13.44761 46.36465...\n",
       "3925    POLYGON ((13.44990 46.36638, 13.44989 46.36644...\n",
       "3926    POLYGON ((13.47392 46.36846, 13.47396 46.36846...\n",
       "Name: geometry, Length: 3927, dtype: geometry"
      ]
     },
     "execution_count": 81,
     "metadata": {},
     "output_type": "execute_result"
    }
   ],
   "source": [
    "oggm_rgi_glaciers['geometry']\n"
   ]
  },
  {
   "cell_type": "code",
   "execution_count": 86,
   "id": "c282a805-a6f7-4df3-9b26-087fa81bbd7d",
   "metadata": {
    "tags": []
   },
   "outputs": [
    {
     "name": "stdout",
     "output_type": "stream",
     "text": [
      "We have 49 points in the training dataset\n"
     ]
    },
    {
     "ename": "NameError",
     "evalue": "name 'glacier_geometry' is not defined",
     "output_type": "error",
     "traceback": [
      "\u001b[1;31m---------------------------------------------------------------------------\u001b[0m",
      "\u001b[1;31mNameError\u001b[0m                                 Traceback (most recent call last)",
      "Cell \u001b[1;32mIn[86], line 14\u001b[0m\n\u001b[0;32m     11\u001b[0m \u001b[38;5;28mprint\u001b[39m(\u001b[38;5;124mf\u001b[39m\u001b[38;5;124m\"\u001b[39m\u001b[38;5;124mWe have \u001b[39m\u001b[38;5;132;01m{\u001b[39;00m\u001b[38;5;28mlen\u001b[39m(glathida_rgis_aletsch)\u001b[38;5;132;01m}\u001b[39;00m\u001b[38;5;124m points in the training dataset\u001b[39m\u001b[38;5;124m\"\u001b[39m)\n\u001b[0;32m     13\u001b[0m fig, ax \u001b[38;5;241m=\u001b[39m plt\u001b[38;5;241m.\u001b[39msubplots()\n\u001b[1;32m---> 14\u001b[0m exterior_ring \u001b[38;5;241m=\u001b[39m glacier_geometry\u001b[38;5;241m.\u001b[39mexterior \u001b[38;5;66;03m# External geometry\u001b[39;00m\n\u001b[0;32m     15\u001b[0m ax\u001b[38;5;241m.\u001b[39mplot(\u001b[38;5;241m*\u001b[39mexterior_ring\u001b[38;5;241m.\u001b[39mxy, c\u001b[38;5;241m=\u001b[39m\u001b[38;5;124m'\u001b[39m\u001b[38;5;124mb\u001b[39m\u001b[38;5;124m'\u001b[39m)\n\u001b[0;32m     16\u001b[0m glacier_nunataks_list \u001b[38;5;241m=\u001b[39m [nunatak \u001b[38;5;28;01mfor\u001b[39;00m nunatak \u001b[38;5;129;01min\u001b[39;00m glacier_geometry\u001b[38;5;241m.\u001b[39minteriors] \u001b[38;5;66;03m# Nunataks (list may be empty if no nunataks)\u001b[39;00m\n",
      "\u001b[1;31mNameError\u001b[0m: name 'glacier_geometry' is not defined"
     ]
    }
   ],
   "source": [
    "# Plot one specific glacier by passing the RGIId code.\n",
    "# Example: RGI60-11.01450 is the Aletsch Glacier, the biggest in Central Europe (rgi=11).\n",
    "# You under the geometry column you find the glacier external boundary (.external)\n",
    "# and the glacier nunataks, if any (.interiors). Nunataks are the inner glacier portions that are deglaciated (=rock).\n",
    "# We can also find the points in the training dataset for this glacier (not all glaciers contain measurements)\n",
    "\n",
    "# glacier_geometry = oggm_rgi_glaciers.loc[oggm_rgi_glaciers['RGIId']=='RGI60-11.01450']['geometry'].item()\n",
    "\n",
    "# Get the measurements in the training dataset by passing the glacier id\n",
    "glathida_rgis_aletsch = glathida_rgis.loc[glathida_rgis['RGIId']=='RGI60-11.01450']\n",
    "print(f\"We have {len(glathida_rgis_aletsch)} points in the training dataset\")\n",
    "\n",
    "fig, ax = plt.subplots()\n",
    "exterior_ring = glacier_geometry.exterior # External geometry\n",
    "ax.plot(*exterior_ring.xy, c='b')\n",
    "glacier_nunataks_list = [nunatak for nunatak in glacier_geometry.interiors] # Nunataks (list may be empty if no nunataks)\n",
    "for nunatak in glacier_nunataks_list:\n",
    "    ax.plot(*nunatak.xy, c='k', lw=0.8)\n",
    "ax.scatter(x=glathida_rgis_aletsch['POINT_LON'], y=glathida_rgis_aletsch['POINT_LAT'], s=20, c='orange', label='Training points')\n",
    "ax.legend()\n",
    "plt.show()"
   ]
  },
  {
   "cell_type": "code",
   "execution_count": null,
   "id": "29542959-0a02-45cd-a8bf-09f657bea508",
   "metadata": {
    "tags": []
   },
   "outputs": [],
   "source": [
    "# Plot the whole regional set of glaciers and all nunataks\n",
    "# zoom in with matplotlib in interactive mode (%matplotlib qt ) to have a sense of all glacier and their nunataks\n",
    "\n",
    "region11 = world.loc[12] # Regional boundary\n",
    "fig, ax = plt.subplots()\n",
    "for glacier_rgiid, glacier_geometry in zip(oggm_rgi_glaciers['RGIId'], oggm_rgi_glaciers['geometry']):\n",
    "\n",
    "    exterior_ring = glacier_geometry.exterior\n",
    "    glacier_nunataks_list = [nunatak for nunatak in glacier_geometry.interiors]\n",
    "\n",
    "    ax.plot(*exterior_ring.xy, c='b')\n",
    "    for nunatak in glacier_nunataks_list:\n",
    "        ax.plot(*nunatak.xy, c='k', lw=0.8) # Plot glacier nunataks (if any)\n",
    "ax.plot(*region11['geometry'].exterior.xy, c='g') # Regional boundary\n",
    "ax.text(min(*region11['geometry'].exterior.xy[0])+1,\n",
    "        max(*region11['geometry'].exterior.xy[1])-1, f'rgi {rgi}', c='g', fontsize=12)\n",
    "plt.show()"
   ]
  },
  {
   "cell_type": "code",
   "execution_count": 25,
   "id": "abd985bb-db27-49d3-a97d-1448301d9c78",
   "metadata": {},
   "outputs": [],
   "source": [
    "color_glacier_margin = 'white'\n",
    "color_glacier_out = 'grey'\n",
    "color_glacier_in = 'white'\n",
    "color_nunatak_margin = 'black'\n",
    "color_nunatak = 'black'"
   ]
  },
  {
   "cell_type": "code",
   "execution_count": 28,
   "id": "f6b479c1-288b-460e-8c1b-585ad90d2c93",
   "metadata": {
    "tags": []
   },
   "outputs": [
    {
     "ename": "NameError",
     "evalue": "name 'glacier_geometry' is not defined",
     "output_type": "error",
     "traceback": [
      "\u001b[1;31m---------------------------------------------------------------------------\u001b[0m",
      "\u001b[1;31mNameError\u001b[0m                                 Traceback (most recent call last)",
      "Cell \u001b[1;32mIn[28], line 4\u001b[0m\n\u001b[0;32m      1\u001b[0m fig, ax \u001b[38;5;241m=\u001b[39m plt\u001b[38;5;241m.\u001b[39msubplots()\n\u001b[0;32m      3\u001b[0m \u001b[38;5;66;03m# plot the exterior ring = glacier margin\u001b[39;00m\n\u001b[1;32m----> 4\u001b[0m exterior_ring \u001b[38;5;241m=\u001b[39m \u001b[43mglacier_geometry\u001b[49m\u001b[38;5;241m.\u001b[39mexterior \n\u001b[0;32m      5\u001b[0m ax\u001b[38;5;241m.\u001b[39mplot(\u001b[38;5;241m*\u001b[39mexterior_ring\u001b[38;5;241m.\u001b[39mxy, c\u001b[38;5;241m=\u001b[39mcolor_glacier_margin)\n\u001b[0;32m      7\u001b[0m \u001b[38;5;66;03m# plot the nunataks \u001b[39;00m\n",
      "\u001b[1;31mNameError\u001b[0m: name 'glacier_geometry' is not defined"
     ]
    }
   ],
   "source": [
    "fig, ax = plt.subplots()\n",
    "\n",
    "# plot the exterior ring = glacier margin\n",
    "exterior_ring = glacier_geometry.exterior \n",
    "ax.plot(*exterior_ring.xy, c=color_glacier_margin)\n",
    "\n",
    "# plot the nunataks \n",
    "glacier_nunataks_list = [nunatak for nunatak in glacier_geometry.interiors]\n",
    "for nunatak in glacier_nunataks_list:\n",
    "    ax.plot(*nunatak.xy, c=color_nunatak_margin, lw=0.8)\n",
    "\n",
    "bounds = glacier_geometry.bounds\n",
    "x_min, y_min, x_max, y_max = bounds # get the boundaries for the plot\n",
    "\n",
    "# add a margin to the bounding box so that we have it similar to the previous plot of the glacier - means boundary glacier != boundary plot\n",
    "margin = 0.05 * max(x_max - x_min, y_max - y_min)\n",
    "x_min -= margin\n",
    "x_max += margin\n",
    "y_min -= margin\n",
    "y_max += margin\n",
    "ax.set_xlim(x_min, x_max)\n",
    "ax.set_ylim(y_min, y_max)\n",
    "\n",
    "# create a large rectangle for the whole plot area\n",
    "outer_rect = np.array([[x_min, y_min], [x_min, y_max], [x_max, y_max], [x_max, y_min], [x_min, y_min]])\n",
    "\n",
    "# shade the area outside the glacier's exterior ring\n",
    "ax.fill(*outer_rect.T, facecolor=color_glacier_out, edgecolor='none', alpha=0.5) # * -> it unpacks the tuple/array into separate arguments \n",
    "ax.fill(*exterior_ring.xy, facecolor=color_glacier_in, edgecolor='none')\n",
    "\n",
    "# shade the interior of the nunataks \n",
    "for nunatak in glacier_nunataks_list:\n",
    "    ax.fill(*nunatak.xy, facecolor=color_nunatak, edgecolor='none')\n",
    "\n",
    "plt.show()"
   ]
  },
  {
   "cell_type": "code",
   "execution_count": null,
   "id": "2938bc8d-e95d-4e41-891e-2ea0c436078a",
   "metadata": {},
   "outputs": [],
   "source": []
  }
 ],
 "metadata": {
  "kernelspec": {
   "display_name": "MLenv",
   "language": "python",
   "name": "mlenv"
  },
  "language_info": {
   "codemirror_mode": {
    "name": "ipython",
    "version": 3
   },
   "file_extension": ".py",
   "mimetype": "text/x-python",
   "name": "python",
   "nbconvert_exporter": "python",
   "pygments_lexer": "ipython3",
   "version": "3.10.13"
  }
 },
 "nbformat": 4,
 "nbformat_minor": 5
}
