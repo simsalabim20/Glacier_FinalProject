{
 "cells": [
  {
   "cell_type": "code",
   "execution_count": 1,
   "metadata": {},
   "outputs": [],
   "source": [
    "import matplotlib.pyplot as plt\n",
    "import numpy as np\n",
    "import pandas as pd\n",
    "import seaborn as sns\n",
    "\n",
    "from sklearn.neural_network import MLPClassifier\n",
    "from sklearn.metrics import accuracy_score, log_loss, auc, roc_curve\n",
    "from sklearn.model_selection import train_test_split, RandomizedSearchCV\n",
    "from sklearn.preprocessing import StandardScaler, label_binarize\n",
    "from scipy.stats import uniform, randint\n",
    "\n",
    "sns.set_theme()"
   ]
  },
  {
   "cell_type": "code",
   "execution_count": 2,
   "metadata": {},
   "outputs": [
    {
     "data": {
      "text/html": [
       "<div>\n",
       "<style scoped>\n",
       "    .dataframe tbody tr th:only-of-type {\n",
       "        vertical-align: middle;\n",
       "    }\n",
       "\n",
       "    .dataframe tbody tr th {\n",
       "        vertical-align: top;\n",
       "    }\n",
       "\n",
       "    .dataframe thead th {\n",
       "        text-align: right;\n",
       "    }\n",
       "</style>\n",
       "<table border=\"1\" class=\"dataframe\">\n",
       "  <thead>\n",
       "    <tr style=\"text-align: right;\">\n",
       "      <th></th>\n",
       "      <th>RGIId</th>\n",
       "      <th>slope_lat</th>\n",
       "      <th>slope_lon</th>\n",
       "      <th>vx</th>\n",
       "      <th>vy</th>\n",
       "      <th>THICKNESS</th>\n",
       "      <th>Area</th>\n",
       "      <th>dist_from_border_km_geom</th>\n",
       "      <th>TermType</th>\n",
       "    </tr>\n",
       "  </thead>\n",
       "  <tbody>\n",
       "    <tr>\n",
       "      <th>0</th>\n",
       "      <td>RGI60-11.00638</td>\n",
       "      <td>-0.461665</td>\n",
       "      <td>-0.813782</td>\n",
       "      <td>1.288977</td>\n",
       "      <td>-5.435200</td>\n",
       "      <td>6.0</td>\n",
       "      <td>0.082</td>\n",
       "      <td>0.027176</td>\n",
       "      <td>0.0</td>\n",
       "    </tr>\n",
       "    <tr>\n",
       "      <th>1</th>\n",
       "      <td>RGI60-11.00638</td>\n",
       "      <td>-0.450002</td>\n",
       "      <td>-0.752270</td>\n",
       "      <td>1.288977</td>\n",
       "      <td>-5.435200</td>\n",
       "      <td>11.0</td>\n",
       "      <td>0.082</td>\n",
       "      <td>0.018446</td>\n",
       "      <td>0.0</td>\n",
       "    </tr>\n",
       "    <tr>\n",
       "      <th>2</th>\n",
       "      <td>RGI60-11.00638</td>\n",
       "      <td>-0.293614</td>\n",
       "      <td>-0.412834</td>\n",
       "      <td>4.855443</td>\n",
       "      <td>-8.508955</td>\n",
       "      <td>13.0</td>\n",
       "      <td>0.082</td>\n",
       "      <td>0.009991</td>\n",
       "      <td>0.0</td>\n",
       "    </tr>\n",
       "    <tr>\n",
       "      <th>3</th>\n",
       "      <td>RGI60-11.00638</td>\n",
       "      <td>-0.254930</td>\n",
       "      <td>-0.428437</td>\n",
       "      <td>4.855443</td>\n",
       "      <td>-8.508955</td>\n",
       "      <td>7.0</td>\n",
       "      <td>0.082</td>\n",
       "      <td>0.012468</td>\n",
       "      <td>0.0</td>\n",
       "    </tr>\n",
       "    <tr>\n",
       "      <th>4</th>\n",
       "      <td>RGI60-11.00638</td>\n",
       "      <td>-0.459083</td>\n",
       "      <td>-0.814260</td>\n",
       "      <td>1.288977</td>\n",
       "      <td>-5.435200</td>\n",
       "      <td>6.0</td>\n",
       "      <td>0.082</td>\n",
       "      <td>0.028940</td>\n",
       "      <td>0.0</td>\n",
       "    </tr>\n",
       "  </tbody>\n",
       "</table>\n",
       "</div>"
      ],
      "text/plain": [
       "            RGIId  slope_lat  slope_lon        vx        vy  THICKNESS   Area  \\\n",
       "0  RGI60-11.00638  -0.461665  -0.813782  1.288977 -5.435200        6.0  0.082   \n",
       "1  RGI60-11.00638  -0.450002  -0.752270  1.288977 -5.435200       11.0  0.082   \n",
       "2  RGI60-11.00638  -0.293614  -0.412834  4.855443 -8.508955       13.0  0.082   \n",
       "3  RGI60-11.00638  -0.254930  -0.428437  4.855443 -8.508955        7.0  0.082   \n",
       "4  RGI60-11.00638  -0.459083  -0.814260  1.288977 -5.435200        6.0  0.082   \n",
       "\n",
       "   dist_from_border_km_geom  TermType  \n",
       "0                  0.027176       0.0  \n",
       "1                  0.018446       0.0  \n",
       "2                  0.009991       0.0  \n",
       "3                  0.012468       0.0  \n",
       "4                  0.028940       0.0  "
      ]
     },
     "execution_count": 2,
     "metadata": {},
     "output_type": "execute_result"
    }
   ],
   "source": [
    "data_name = 'n0_metadata19_hmineq0.0_tmin20050000_mean_grid_20.csv'\n",
    "glathida_rgis = pd.read_csv(data_name, low_memory=False)\n",
    "glathida_rgis = glathida_rgis.dropna()\n",
    "glathida_rgis[['RGIId', 'slope_lat', 'slope_lon', 'vx', 'vy', 'THICKNESS', 'Area', 'dist_from_border_km_geom', 'TermType']].head()"
   ]
  },
  {
   "cell_type": "code",
   "execution_count": 3,
   "metadata": {},
   "outputs": [],
   "source": [
    "df = glathida_rgis.drop(columns = 'RGIId')\n",
    "df = df[df['THICKNESS'] != 0]"
   ]
  },
  {
   "cell_type": "code",
   "execution_count": 4,
   "metadata": {},
   "outputs": [
    {
     "data": {
      "text/plain": [
       "Index(['RGI', 'RGIId', 'POINT_LAT', 'POINT_LON', 'THICKNESS', 'Area',\n",
       "       'elevation', 'dmdtda_hugo', 'smb', 'slope_lat', 'slope_lon', 'vx', 'vy',\n",
       "       'dist_from_border_km_geom', 'Zmin', 'Zmax', 'Zmed', 'Slope', 'Lmax',\n",
       "       'ith_m', 'ith_f', 'slope_lon_gf50', 'slope_lat_gf50', 'slope_lon_gf100',\n",
       "       'slope_lat_gf100', 'slope_lon_gf150', 'slope_lat_gf150',\n",
       "       'slope_lon_gf300', 'slope_lat_gf300', 'slope_lon_gf450',\n",
       "       'slope_lat_gf450', 'slope_lon_gfa', 'slope_lat_gfa', 'Form', 'Aspect',\n",
       "       'TermType', 'vx_gf50', 'vx_gf100', 'vx_gf150', 'vx_gf300', 'vx_gf450',\n",
       "       'vx_gfa', 'vy_gf50', 'vy_gf100', 'vy_gf150', 'vy_gf300', 'vy_gf450',\n",
       "       'vy_gfa', 'dvx_dx', 'dvx_dy', 'dvy_dx', 'dvy_dy', 'curv_50', 'curv_300',\n",
       "       'curv_gfa', 'aspect_50', 'aspect_300', 'aspect_gfa', 'estimated'],\n",
       "      dtype='object')"
      ]
     },
     "execution_count": 4,
     "metadata": {},
     "output_type": "execute_result"
    }
   ],
   "source": [
    "glathida_rgis.columns"
   ]
  },
  {
   "cell_type": "code",
   "execution_count": 5,
   "metadata": {},
   "outputs": [
    {
     "name": "stdout",
     "output_type": "stream",
     "text": [
      "0 Land-terminating :  3090356\n",
      "1 Marine-terminating :  621760\n",
      "2 Lake-terminating :  24824\n",
      "3 Dry calving :  0\n",
      "4 Regenerated :  0\n",
      "5 Shelf-terminating :  231594\n",
      "6 Not assigned :  0\n"
     ]
    }
   ],
   "source": [
    "glacierTermTypes = ('Land-terminating', 'Marine-terminating', 'Lake-terminating',\n",
    "                     'Dry calving', 'Regenerated', 'Shelf-terminating', 'Not assigned')\n",
    "glacierID = (0, 1, 2, 3, 4, 5, 9)\n",
    "classes = np.unique(df['TermType'])\n",
    "\n",
    "for i in range(len(glacierTermTypes)):\n",
    "    print(i, glacierTermTypes[i],': ', np.size(df[df['TermType'] == glacierID[i]]))"
   ]
  },
  {
   "cell_type": "markdown",
   "metadata": {},
   "source": [
    "Only four of the TermTypes exists. Why are the other included?"
   ]
  },
  {
   "cell_type": "code",
   "execution_count": 6,
   "metadata": {},
   "outputs": [],
   "source": [
    "def split(data, train_size, target):\n",
    "    # Initial data split into x and y values.\n",
    "    xData = pd.DataFrame(data)\n",
    "    xData = xData.drop(columns = [target])\n",
    "    # Target\n",
    "    yData = data[target]\n",
    "\n",
    "    # Split into test and training data\n",
    "    xTrain, xTest, yTrain, yTest = train_test_split(xData, yData, train_size = train_size, random_state = 42)\n",
    "\n",
    "    return xTrain, xTest, yTrain, yTest"
   ]
  },
  {
   "cell_type": "code",
   "execution_count": 7,
   "metadata": {},
   "outputs": [],
   "source": [
    "xTrain, xTest, yTrain, yTest = split(df, 0.8, 'TermType')"
   ]
  },
  {
   "cell_type": "code",
   "execution_count": 8,
   "metadata": {},
   "outputs": [],
   "source": [
    "# Multi-layer Perceptron (MLP)\n",
    "def ClassMLP_crude(xTrain, xTest, yTrain, yTest):\n",
    "    # Define and train MLP classifier\n",
    "    ClassifierMLP = MLPClassifier(random_state = 42, early_stopping=True)\n",
    "    \n",
    "    # Train the model on training data\n",
    "    ClassifierMLP.fit(xTrain, yTrain)\n",
    "\n",
    "    # Compute predictions from trained model:\n",
    "    pre = ClassifierMLP.predict(xTest)\n",
    "    acc = accuracy_score(yTest, pre)\n",
    "    \n",
    "    return acc, pre    "
   ]
  },
  {
   "cell_type": "code",
   "execution_count": 9,
   "metadata": {},
   "outputs": [
    {
     "name": "stdout",
     "output_type": "stream",
     "text": [
      "Accuracy:\n",
      "0.9649981731823164\n",
      "\n",
      "Clasification prediction:\n",
      "0 Land-terminating 10845\n",
      "1 Marine-terminating 1963\n",
      "2 Lake-terminating 73\n",
      "3 Dry calving 0\n",
      "4 Regenerated 0\n",
      "5 Shelf-terminating 804\n",
      "6 Not assigned 0\n"
     ]
    }
   ],
   "source": [
    "acc, pre = ClassMLP_crude(xTrain, xTest, yTrain, yTest)\n",
    "\n",
    "print('Accuracy:')\n",
    "print(acc)\n",
    "print()\n",
    "print('Clasification prediction:')\n",
    "for i in range(len(glacierTermTypes)):\n",
    "    print(i, glacierTermTypes[i], len(pre[np.where(pre == i)]))"
   ]
  },
  {
   "cell_type": "markdown",
   "metadata": {},
   "source": [
    "Hyperparameter optimization with grid search."
   ]
  },
  {
   "cell_type": "code",
   "execution_count": 10,
   "metadata": {},
   "outputs": [
    {
     "name": "stdout",
     "output_type": "stream",
     "text": [
      "Hidden layer neuron range estimation: 89 and 149\n"
     ]
    }
   ],
   "source": [
    "# Number of output neurons, Number of input neurons, Number of samples in training set, scaling factor in range 2-10.\n",
    "def hiddenLayerSize(No, Ni, Ns, alpha): # Tries to estimate optimal hidden layer neurons.\n",
    "    Nh = Ns / (alpha * (Ni + No))\n",
    "    return Nh\n",
    "No = 4\n",
    "\n",
    "NhMax = int(hiddenLayerSize(4, np.shape(xTrain)[1], np.shape(xTrain)[0], 6))\n",
    "NhMin = int(hiddenLayerSize(4, np.shape(xTrain)[1], np.shape(xTrain)[0], 10))\n",
    "print(f'Hidden layer neuron range estimation: {NhMin} and {NhMax}')\n",
    "\n",
    "hParamSpace = {'activation': ['relu', 'tanh'],\n",
    "               'alpha': uniform(0.001, 0.1),\n",
    "               'solver': ['adam', 'sgd'],\n",
    "               'early_stopping': [True],\n",
    "               'learning_rate': ['constant', 'adaptive'],\n",
    "               'hidden_layer_sizes': [(randint(NhMin, NhMax).rvs(),\n",
    "                                       randint(NhMin, NhMax).rvs(), \n",
    "                                       int(0.3 * randint(NhMin, NhMax).rvs()))]}"
   ]
  },
  {
   "cell_type": "code",
   "execution_count": 55,
   "metadata": {},
   "outputs": [
    {
     "name": "stdout",
     "output_type": "stream",
     "text": [
      "Data normalizing.\n",
      "Distribution search hyperparameter optimization.\n"
     ]
    },
    {
     "name": "stderr",
     "output_type": "stream",
     "text": [
      "C:\\Users\\45424\\AppData\\Local\\Packages\\PythonSoftwareFoundation.Python.3.12_qbz5n2kfra8p0\\LocalCache\\local-packages\\Python312\\site-packages\\sklearn\\neural_network\\_multilayer_perceptron.py:691: ConvergenceWarning: Stochastic Optimizer: Maximum iterations (20) reached and the optimization hasn't converged yet.\n",
      "  warnings.warn(\n"
     ]
    },
    {
     "name": "stdout",
     "output_type": "stream",
     "text": [
      "Best hyperparameters found.\n",
      "Training optimized model.\n"
     ]
    },
    {
     "name": "stderr",
     "output_type": "stream",
     "text": [
      "C:\\Users\\45424\\AppData\\Local\\Packages\\PythonSoftwareFoundation.Python.3.12_qbz5n2kfra8p0\\LocalCache\\local-packages\\Python312\\site-packages\\sklearn\\neural_network\\_multilayer_perceptron.py:691: ConvergenceWarning: Stochastic Optimizer: Maximum iterations (20) reached and the optimization hasn't converged yet.\n",
      "  warnings.warn(\n"
     ]
    },
    {
     "name": "stdout",
     "output_type": "stream",
     "text": [
      "Finished model.\n",
      "The model trained for 20 epochs.\n"
     ]
    }
   ],
   "source": [
    "from sklearn.neural_network import MLPClassifier\n",
    "from sklearn.preprocessing import StandardScaler\n",
    "from sklearn.model_selection import RandomizedSearchCV, train_test_split\n",
    "from sklearn.metrics import accuracy_score, log_loss\n",
    "\n",
    "def ClassMLPran(xTrain, xTest, yTrain, yTest, paramSpace, maxIts, crossValids):\n",
    "    # Define the MLPClassifier.\n",
    "    mlp = MLPClassifier(max_iter=maxIts, random_state=42)\n",
    "\n",
    "    print(\"Data normalizing.\")\n",
    "    scaler = StandardScaler()\n",
    "    xTrain = scaler.fit_transform(xTrain)\n",
    "    xTest = scaler.transform(xTest)\n",
    "    \n",
    "    # Perform GridSearchCV\n",
    "    print(\"Distribution search hyperparameter optimization.\")\n",
    "    grid_search = RandomizedSearchCV(estimator=mlp, param_distributions=paramSpace, cv=crossValids, n_jobs=-1)\n",
    "    grid_search.fit(xTrain, yTrain)\n",
    "\n",
    "    # Best parameters found during grid search.\n",
    "    print(\"Best hyperparameters found.\")\n",
    "    best_params = grid_search.best_params_\n",
    "\n",
    "    # Train MLPClassifier with best parameters.\n",
    "    print(\"Training optimized model.\")\n",
    "    best_mlp = MLPClassifier(max_iter=maxIts, **best_params, random_state=42)\n",
    "    best_mlp.fit(xTrain, yTrain)\n",
    "\n",
    "    print(\"Finished model.\")\n",
    "    \n",
    "    xTrain1, xValid, yTrain1, yValid = train_test_split(xTest, yTest, train_size=0.8, random_state=42)\n",
    "    \n",
    "    preTRAIN1 = best_mlp.predict(xTrain1)\n",
    "    pre_probTRAIN1 = best_mlp.predict_proba(xTrain1)\n",
    "    accTRAIN1 = accuracy_score(yTrain1, preTRAIN1)\n",
    "    lossTRAIN1 = log_loss(yTrain1, pre_probTRAIN1)\n",
    "\n",
    "    preVALID = best_mlp.predict(xValid)\n",
    "    pre_probVALID = best_mlp.predict_proba(xValid)\n",
    "    accVALID = accuracy_score(yValid, preVALID)\n",
    "    lossVALID = log_loss(yValid, pre_probVALID)\n",
    "\n",
    "    preTRAIN = best_mlp.predict(xTrain)\n",
    "    pre_probTRAIN = best_mlp.predict_proba(xTrain)\n",
    "    accTRAIN = accuracy_score(yTrain, preTRAIN)\n",
    "    lossTRAIN = log_loss(yTrain, pre_probTRAIN)\n",
    "\n",
    "    preTEST = best_mlp.predict(xTest)\n",
    "    pre_probTEST = best_mlp.predict_proba(xTest)\n",
    "    accTEST = accuracy_score(yTest, preTEST)\n",
    "    lossTEST = log_loss(yTest, pre_probTEST)\n",
    "\n",
    "    # Get the number of epochs (iterations) the model trained for\n",
    "    epochs = best_mlp.n_iter_\n",
    "\n",
    "    return best_mlp, best_params, accTRAIN, preTRAIN, pre_probTRAIN, lossTRAIN, accTEST, preTEST, pre_probTEST, lossTEST, accTRAIN1, lossTRAIN1, accVALID, lossVALID, epochs\n",
    "\n",
    "# Call the function\n",
    "bestMLP, bestParams, accTRAIN, preTRAIN, pre_probTRAIN, lossTRAIN, accTEST, preTEST, pre_probTEST, lossTEST, accTRAIN1, lossTRAIN1, accVALID, lossVALID, epochs = ClassMLPran(xTrain, xTest, yTrain, yTest, hParamSpace, 20, 5)\n",
    "\n",
    "# Output the number of epochs\n",
    "print(f\"The model trained for {epochs} epochs.\")\n"
   ]
  },
  {
   "cell_type": "code",
   "execution_count": 56,
   "metadata": {},
   "outputs": [
    {
     "name": "stdout",
     "output_type": "stream",
     "text": [
      "SECOND SPLIT SCORES:\n",
      "Accuracy TRAIN: 0.9945195469492145\n",
      "Loss TRAIN 0.013880191237529127\n",
      "\n",
      "Accuracy TEST: 0.9952502740226525\n",
      "Loss TEST 0.00792546735193775\n",
      "\n",
      "Best parameters found:\n",
      "{'activation': 'tanh', 'alpha': 0.013259079929415864, 'early_stopping': True, 'hidden_layer_sizes': (116, 137, 33), 'learning_rate': 'constant', 'solver': 'adam'}\n"
     ]
    }
   ],
   "source": [
    "print('SECOND SPLIT SCORES:')\n",
    "print(f'Accuracy TRAIN: {accVALID}')\n",
    "print(f'Loss TRAIN {lossVALID}')\n",
    "print()\n",
    "print(f'Accuracy TEST: {accTRAIN1}')\n",
    "print(f'Loss TEST {lossTRAIN}')\n",
    "print()\n",
    "print(f'Best parameters found:')\n",
    "print(bestParams)"
   ]
  },
  {
   "cell_type": "code",
   "execution_count": 50,
   "metadata": {},
   "outputs": [
    {
     "name": "stdout",
     "output_type": "stream",
     "text": [
      "Accuracy TRAIN: 0.9958164346523439\n",
      "Loss TRAIN 0.016342954842200292\n",
      "\n",
      "Accuracy TEST: 0.9909389842893679\n",
      "Loss TEST 0.02901658431647952\n",
      "\n",
      "Best parameters found:\n",
      "{'activation': 'tanh', 'alpha': 0.0254780322806054, 'early_stopping': True, 'hidden_layer_sizes': (116, 137, 33), 'learning_rate': 'constant', 'solver': 'adam'}\n"
     ]
    }
   ],
   "source": [
    "print(f'Accuracy TRAIN: {accTRAIN}')\n",
    "print(f'Loss TRAIN {lossTRAIN}')\n",
    "print()\n",
    "print(f'Accuracy TEST: {accTEST}')\n",
    "print(f'Loss TEST {lossTEST}')\n",
    "print()\n",
    "print(f'Best parameters found:')\n",
    "print(bestParams)"
   ]
  },
  {
   "cell_type": "code",
   "execution_count": 13,
   "metadata": {},
   "outputs": [
    {
     "data": {
      "image/png": "[encoded data removed]",
      "text/plain": [
       "<Figure size 1000x500 with 2 Axes>"
      ]
     },
     "metadata": {},
     "output_type": "display_data"
    }
   ],
   "source": [
    "# Assuming your classes are already defined\n",
    "n_classes = len(classes)\n",
    "y_test_binarized = label_binarize(yTest, classes=classes)\n",
    "y_score = pre_prob\n",
    "\n",
    "# Compute ROC curve and ROC area for each class\n",
    "fpr = dict()\n",
    "tpr = dict()\n",
    "roc_auc = dict()\n",
    "for i in range(n_classes):\n",
    "    fpr[i], tpr[i], _ = roc_curve(y_test_binarized[:, i], y_score[:, i])\n",
    "    roc_auc[i] = auc(fpr[i], tpr[i])\n",
    "\n",
    "# Plot ROC curve\n",
    "fig, ax = plt.subplots(1, 2, figsize=(10, 5))\n",
    "for i in range(n_classes):\n",
    "    ax[0].plot(fpr[i], tpr[i], lw=2, label=f'{glacierTermTypes[int(classes[i])]} area = {roc_auc[i]:.6f}')\n",
    "\n",
    "ax[0].set_xlim([-0.01, 1.0])\n",
    "ax[0].set_ylim([0.0, 1.01])\n",
    "ax[0].set_ylabel('True Positive Rate')\n",
    "ax[0].set_title('ROC Curve')\n",
    "ax[0].legend(loc='lower right')\n",
    "\n",
    "for i in range(n_classes):\n",
    "    ax[1].plot(fpr[i], tpr[i], lw=2, label=f'{glacierTermTypes[int(classes[i])]} area = {roc_auc[i]:.6f}')\n",
    "\n",
    "ax[1].set_xlim([-0.01, 0.3])\n",
    "ax[1].set_ylim([0.9, 1.01])\n",
    "ax[1].set_ylabel('True Positive Rate')\n",
    "ax[1].set_title('Upper Left Corner')\n",
    "ax[1].legend(loc='lower right')\n",
    "\n",
    "fig.suptitle('Termination type classification rate with estimated zero-thickness', size = 16)\n",
    "\n",
    "plt.tight_layout()\n",
    "plt.savefig('roc_class_termtype_n0.png')\n",
    "plt.show()\n"
   ]
  },
  {
   "cell_type": "code",
   "execution_count": 39,
   "metadata": {},
   "outputs": [
    {
     "name": "stderr",
     "output_type": "stream",
     "text": [
      "C:\\Users\\45424\\AppData\\Local\\Packages\\PythonSoftwareFoundation.Python.3.12_qbz5n2kfra8p0\\LocalCache\\local-packages\\Python312\\site-packages\\sklearn\\base.py:486: UserWarning: X has feature names, but MLPClassifier was fitted without feature names\n",
      "  warnings.warn(\n",
      "C:\\Users\\45424\\AppData\\Local\\Packages\\PythonSoftwareFoundation.Python.3.12_qbz5n2kfra8p0\\LocalCache\\local-packages\\Python312\\site-packages\\sklearn\\base.py:486: UserWarning: X has feature names, but MLPClassifier was fitted without feature names\n",
      "  warnings.warn(\n"
     ]
    },
    {
     "ename": "ValueError",
     "evalue": "y_true and y_pred contain different number of classes 4, 2. Please provide the true labels explicitly through the labels argument. Classes found in y_true: [0. 1. 2. 5.]",
     "output_type": "error",
     "traceback": [
      "\u001b[1;31m---------------------------------------------------------------------------\u001b[0m",
      "\u001b[1;31mValueError\u001b[0m                                Traceback (most recent call last)",
      "Cell \u001b[1;32mIn[39], line 14\u001b[0m\n\u001b[0;32m     11\u001b[0m     \u001b[38;5;28mprint\u001b[39m(\u001b[38;5;124mf\u001b[39m\u001b[38;5;124m\"\u001b[39m\u001b[38;5;124mTest Accuracy: \u001b[39m\u001b[38;5;132;01m{\u001b[39;00maccuracy_test\u001b[38;5;132;01m:\u001b[39;00m\u001b[38;5;124m.4f\u001b[39m\u001b[38;5;132;01m}\u001b[39;00m\u001b[38;5;124m\"\u001b[39m)\n\u001b[0;32m     12\u001b[0m     \u001b[38;5;28mprint\u001b[39m(\u001b[38;5;124mf\u001b[39m\u001b[38;5;124m\"\u001b[39m\u001b[38;5;124mAccuracy Difference: \u001b[39m\u001b[38;5;132;01m{\u001b[39;00maccuracy_difference\u001b[38;5;132;01m:\u001b[39;00m\u001b[38;5;124m.4f\u001b[39m\u001b[38;5;132;01m}\u001b[39;00m\u001b[38;5;124m\"\u001b[39m)\n\u001b[1;32m---> 14\u001b[0m \u001b[43mtest_overfitting\u001b[49m\u001b[43m(\u001b[49m\u001b[43mbestMLP\u001b[49m\u001b[43m,\u001b[49m\u001b[43m \u001b[49m\u001b[43mlog_loss\u001b[49m\u001b[43m,\u001b[49m\u001b[43m \u001b[49m\u001b[43mxTrain\u001b[49m\u001b[43m,\u001b[49m\u001b[43m \u001b[49m\u001b[43myTrain\u001b[49m\u001b[43m,\u001b[49m\u001b[43m \u001b[49m\u001b[43mxTest\u001b[49m\u001b[43m,\u001b[49m\u001b[43m \u001b[49m\u001b[43myTest\u001b[49m\u001b[43m)\u001b[49m\n",
      "Cell \u001b[1;32mIn[39], line 6\u001b[0m, in \u001b[0;36mtest_overfitting\u001b[1;34m(estimator, score_func, X_train, y_train, X_test, y_test, prob)\u001b[0m\n\u001b[0;32m      3\u001b[0m y_pred_train \u001b[38;5;241m=\u001b[39m estimator\u001b[38;5;241m.\u001b[39mpredict(X_train)\n\u001b[0;32m      4\u001b[0m y_pred_test \u001b[38;5;241m=\u001b[39m estimator\u001b[38;5;241m.\u001b[39mpredict(X_test)\n\u001b[1;32m----> 6\u001b[0m accuracy_train \u001b[38;5;241m=\u001b[39m \u001b[43mscore_func\u001b[49m\u001b[43m(\u001b[49m\u001b[43my_train\u001b[49m\u001b[43m,\u001b[49m\u001b[43m \u001b[49m\u001b[43my_pred_train\u001b[49m\u001b[43m)\u001b[49m\n\u001b[0;32m      7\u001b[0m accuracy_test \u001b[38;5;241m=\u001b[39m score_func(y_test, y_pred_test)\n\u001b[0;32m      8\u001b[0m accuracy_difference \u001b[38;5;241m=\u001b[39m accuracy_train \u001b[38;5;241m-\u001b[39m accuracy_test\n",
      "File \u001b[1;32m~\\AppData\\Local\\Packages\\PythonSoftwareFoundation.Python.3.12_qbz5n2kfra8p0\\LocalCache\\local-packages\\Python312\\site-packages\\sklearn\\utils\\_param_validation.py:213\u001b[0m, in \u001b[0;36mvalidate_params.<locals>.decorator.<locals>.wrapper\u001b[1;34m(*args, **kwargs)\u001b[0m\n\u001b[0;32m    207\u001b[0m \u001b[38;5;28;01mtry\u001b[39;00m:\n\u001b[0;32m    208\u001b[0m     \u001b[38;5;28;01mwith\u001b[39;00m config_context(\n\u001b[0;32m    209\u001b[0m         skip_parameter_validation\u001b[38;5;241m=\u001b[39m(\n\u001b[0;32m    210\u001b[0m             prefer_skip_nested_validation \u001b[38;5;129;01mor\u001b[39;00m global_skip_validation\n\u001b[0;32m    211\u001b[0m         )\n\u001b[0;32m    212\u001b[0m     ):\n\u001b[1;32m--> 213\u001b[0m         \u001b[38;5;28;01mreturn\u001b[39;00m \u001b[43mfunc\u001b[49m\u001b[43m(\u001b[49m\u001b[38;5;241;43m*\u001b[39;49m\u001b[43margs\u001b[49m\u001b[43m,\u001b[49m\u001b[43m \u001b[49m\u001b[38;5;241;43m*\u001b[39;49m\u001b[38;5;241;43m*\u001b[39;49m\u001b[43mkwargs\u001b[49m\u001b[43m)\u001b[49m\n\u001b[0;32m    214\u001b[0m \u001b[38;5;28;01mexcept\u001b[39;00m InvalidParameterError \u001b[38;5;28;01mas\u001b[39;00m e:\n\u001b[0;32m    215\u001b[0m     \u001b[38;5;66;03m# When the function is just a wrapper around an estimator, we allow\u001b[39;00m\n\u001b[0;32m    216\u001b[0m     \u001b[38;5;66;03m# the function to delegate validation to the estimator, but we replace\u001b[39;00m\n\u001b[0;32m    217\u001b[0m     \u001b[38;5;66;03m# the name of the estimator by the name of the function in the error\u001b[39;00m\n\u001b[0;32m    218\u001b[0m     \u001b[38;5;66;03m# message to avoid confusion.\u001b[39;00m\n\u001b[0;32m    219\u001b[0m     msg \u001b[38;5;241m=\u001b[39m re\u001b[38;5;241m.\u001b[39msub(\n\u001b[0;32m    220\u001b[0m         \u001b[38;5;124mr\u001b[39m\u001b[38;5;124m\"\u001b[39m\u001b[38;5;124mparameter of \u001b[39m\u001b[38;5;124m\\\u001b[39m\u001b[38;5;124mw+ must be\u001b[39m\u001b[38;5;124m\"\u001b[39m,\n\u001b[0;32m    221\u001b[0m         \u001b[38;5;124mf\u001b[39m\u001b[38;5;124m\"\u001b[39m\u001b[38;5;124mparameter of \u001b[39m\u001b[38;5;132;01m{\u001b[39;00mfunc\u001b[38;5;241m.\u001b[39m\u001b[38;5;18m__qualname__\u001b[39m\u001b[38;5;132;01m}\u001b[39;00m\u001b[38;5;124m must be\u001b[39m\u001b[38;5;124m\"\u001b[39m,\n\u001b[0;32m    222\u001b[0m         \u001b[38;5;28mstr\u001b[39m(e),\n\u001b[0;32m    223\u001b[0m     )\n",
      "File \u001b[1;32m~\\AppData\\Local\\Packages\\PythonSoftwareFoundation.Python.3.12_qbz5n2kfra8p0\\LocalCache\\local-packages\\Python312\\site-packages\\sklearn\\metrics\\_classification.py:2962\u001b[0m, in \u001b[0;36mlog_loss\u001b[1;34m(y_true, y_pred, eps, normalize, sample_weight, labels)\u001b[0m\n\u001b[0;32m   2960\u001b[0m \u001b[38;5;28;01mif\u001b[39;00m \u001b[38;5;28mlen\u001b[39m(lb\u001b[38;5;241m.\u001b[39mclasses_) \u001b[38;5;241m!=\u001b[39m y_pred\u001b[38;5;241m.\u001b[39mshape[\u001b[38;5;241m1\u001b[39m]:\n\u001b[0;32m   2961\u001b[0m     \u001b[38;5;28;01mif\u001b[39;00m labels \u001b[38;5;129;01mis\u001b[39;00m \u001b[38;5;28;01mNone\u001b[39;00m:\n\u001b[1;32m-> 2962\u001b[0m         \u001b[38;5;28;01mraise\u001b[39;00m \u001b[38;5;167;01mValueError\u001b[39;00m(\n\u001b[0;32m   2963\u001b[0m             \u001b[38;5;124m\"\u001b[39m\u001b[38;5;124my_true and y_pred contain different number of \u001b[39m\u001b[38;5;124m\"\u001b[39m\n\u001b[0;32m   2964\u001b[0m             \u001b[38;5;124m\"\u001b[39m\u001b[38;5;124mclasses \u001b[39m\u001b[38;5;132;01m{0}\u001b[39;00m\u001b[38;5;124m, \u001b[39m\u001b[38;5;132;01m{1}\u001b[39;00m\u001b[38;5;124m. Please provide the true \u001b[39m\u001b[38;5;124m\"\u001b[39m\n\u001b[0;32m   2965\u001b[0m             \u001b[38;5;124m\"\u001b[39m\u001b[38;5;124mlabels explicitly through the labels argument. \u001b[39m\u001b[38;5;124m\"\u001b[39m\n\u001b[0;32m   2966\u001b[0m             \u001b[38;5;124m\"\u001b[39m\u001b[38;5;124mClasses found in \u001b[39m\u001b[38;5;124m\"\u001b[39m\n\u001b[0;32m   2967\u001b[0m             \u001b[38;5;124m\"\u001b[39m\u001b[38;5;124my_true: \u001b[39m\u001b[38;5;132;01m{2}\u001b[39;00m\u001b[38;5;124m\"\u001b[39m\u001b[38;5;241m.\u001b[39mformat(\n\u001b[0;32m   2968\u001b[0m                 transformed_labels\u001b[38;5;241m.\u001b[39mshape[\u001b[38;5;241m1\u001b[39m], y_pred\u001b[38;5;241m.\u001b[39mshape[\u001b[38;5;241m1\u001b[39m], lb\u001b[38;5;241m.\u001b[39mclasses_\n\u001b[0;32m   2969\u001b[0m             )\n\u001b[0;32m   2970\u001b[0m         )\n\u001b[0;32m   2971\u001b[0m     \u001b[38;5;28;01melse\u001b[39;00m:\n\u001b[0;32m   2972\u001b[0m         \u001b[38;5;28;01mraise\u001b[39;00m \u001b[38;5;167;01mValueError\u001b[39;00m(\n\u001b[0;32m   2973\u001b[0m             \u001b[38;5;124m\"\u001b[39m\u001b[38;5;124mThe number of classes in labels is different \u001b[39m\u001b[38;5;124m\"\u001b[39m\n\u001b[0;32m   2974\u001b[0m             \u001b[38;5;124m\"\u001b[39m\u001b[38;5;124mfrom that in y_pred. Classes found in \u001b[39m\u001b[38;5;124m\"\u001b[39m\n\u001b[0;32m   2975\u001b[0m             \u001b[38;5;124m\"\u001b[39m\u001b[38;5;124mlabels: \u001b[39m\u001b[38;5;132;01m{0}\u001b[39;00m\u001b[38;5;124m\"\u001b[39m\u001b[38;5;241m.\u001b[39mformat(lb\u001b[38;5;241m.\u001b[39mclasses_)\n\u001b[0;32m   2976\u001b[0m         )\n",
      "\u001b[1;31mValueError\u001b[0m: y_true and y_pred contain different number of classes 4, 2. Please provide the true labels explicitly through the labels argument. Classes found in y_true: [0. 1. 2. 5.]"
     ]
    }
   ],
   "source": [
    "def test_overfitting(estimator, score_func, X_train, y_train, X_test, y_test, prob=False):\n",
    "    if prob:\n",
    "        y_pred_train = estimator.predict_proba(X_train)\n",
    "        y_pred_test = estimator.predict_proba(X_test)\n",
    "    else:        \n",
    "        y_pred_train = estimator.predict(X_train)\n",
    "        y_pred_test = estimator.predict(X_test)\n",
    "    \n",
    "    accuracy_train = score_func(y_train, y_pred_train)\n",
    "    accuracy_test = score_func(y_test, y_pred_test)\n",
    "    accuracy_difference = accuracy_train - accuracy_test\n",
    "    \n",
    "    print(f\"Training Accuracy: {accuracy_train:.4f}\")\n",
    "    print(f\"Test Accuracy: {accuracy_test:.4f}\")\n",
    "    print(f\"Accuracy Difference: {accuracy_difference:.4f}\")\n",
    "\n",
    "test_overfitting(bestMLP, accuracy_score, xTrain, yTrain, xTest, yTest, True)"
   ]
  },
  {
   "cell_type": "code",
   "execution_count": 47,
   "metadata": {},
   "outputs": [
    {
     "name": "stderr",
     "output_type": "stream",
     "text": [
      "C:\\Users\\45424\\AppData\\Local\\Packages\\PythonSoftwareFoundation.Python.3.12_qbz5n2kfra8p0\\LocalCache\\local-packages\\Python312\\site-packages\\sklearn\\base.py:486: UserWarning: X has feature names, but MLPClassifier was fitted without feature names\n",
      "  warnings.warn(\n",
      "C:\\Users\\45424\\AppData\\Local\\Packages\\PythonSoftwareFoundation.Python.3.12_qbz5n2kfra8p0\\LocalCache\\local-packages\\Python312\\site-packages\\sklearn\\base.py:486: UserWarning: X has feature names, but MLPClassifier was fitted without feature names\n",
      "  warnings.warn(\n"
     ]
    },
    {
     "name": "stdout",
     "output_type": "stream",
     "text": [
      "4.046563494123924 4.006976240777883\n"
     ]
    }
   ],
   "source": [
    "roc_auc_score = bestMLP.predict_proba(xTest)\n",
    "losstest = log_loss(yTest, pre_prob_test)\n",
    "\n",
    "pre_prob_train = bestMLP.predict_proba(xTrain)\n",
    "losstrain = log_loss(yTrain, pre_prob_train)\n",
    "\n",
    "print(losstest, losstrain)"
   ]
  },
  {
   "cell_type": "code",
   "execution_count": null,
   "metadata": {},
   "outputs": [],
   "source": []
  }
 ],
 "metadata": {
  "kernelspec": {
   "display_name": "Python 3",
   "language": "python",
   "name": "python3"
  },
  "language_info": {
   "codemirror_mode": {
    "name": "ipython",
    "version": 3
   },
   "file_extension": ".py",
   "mimetype": "text/x-python",
   "name": "python",
   "nbconvert_exporter": "python",
   "pygments_lexer": "ipython3",
   "version": "3.12.3"
  }
 },
 "nbformat": 4,
 "nbformat_minor": 2
}
